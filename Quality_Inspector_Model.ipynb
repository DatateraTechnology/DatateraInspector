{
  "cells": [
    {
      "cell_type": "markdown",
      "metadata": {
        "id": "X8c6TIYWL_nW"
      },
      "source": [
        "**----------------------------------------------------------------------DATA QUALITY METRICS---------------------------------------------------------------**\n",
        "1. Completeness\n",
        "This measures whether all the necessary data is present in a specific dataset. You can think about completeness in one of two ways: at the record level or at the attribute level. Measuring completeness at the attribute level is a little more complex however, as not all fields will be mandatory.\n",
        "\n",
        "2. Accuracy\n",
        "How accurately does your data reflect the real-world object? In the financial sector, data accuracy is usually black or white – it either is or isn’t accurate. That’s because the number of pounds and pennies in an account is a precise number.\n",
        "Data accuracy is critical in large organizations, where the penalties for failure are high.\n",
        "\n",
        "3. Consistency\n",
        "Maintaining synchronicity between different databases is essential. To ensure data remains consistent on a daily basis, software systems are often the answer.\n",
        "\n",
        "4. Validity\n",
        "Validity is a measure of how well data conforms to required value attributes. For example, ensuring dates conform to the same format, i.e., date/month/year or month/date/year.\n",
        "\n",
        "5. Timeliness\n",
        "Timeliness reflects the accuracy of data at a specific point in time. An example of this is when a customer moves to a new house, how timely are they in informing their bank of their new address? Few people do this immediately, so there will be a negative impact on the timeliness of their data.\n",
        "\n",
        "6. Integrity\n",
        "To ensure data integrity, it’s important to maintain all the data quality metrics we’ve mentioned above as your data moves between different systems. Typically, data stored in multiple systems breaks data integrity.\n",
        "\n",
        "In order to measure the quaily of a dataset, It may be helpful to analyze missing values, duplicated values, multicolinearity and erroraneous values for a given dataset.  \n",
        "\n"
      ]
    },
    {
      "cell_type": "markdown",
      "metadata": {
        "id": "iuoAXS1wd03h"
      },
      "source": [
        "# Importing Libraries"
      ]
    },
    {
      "cell_type": "code",
      "execution_count": 154,
      "metadata": {
        "colab": {
          "base_uri": "https://localhost:8080/"
        },
        "id": "ph6HZkPAURhK",
        "outputId": "ac6a2cbf-9324-4a12-a8f7-b6412cba9237"
      },
      "outputs": [
        {
          "output_type": "stream",
          "name": "stdout",
          "text": [
            "Looking in indexes: https://pypi.org/simple, https://us-python.pkg.dev/colab-wheels/public/simple/\n",
            "Requirement already satisfied: pyforest in /usr/local/lib/python3.7/dist-packages (1.1.0)\n",
            "Looking in indexes: https://pypi.org/simple, https://us-python.pkg.dev/colab-wheels/public/simple/\n",
            "Requirement already satisfied: ydata_quality in /usr/local/lib/python3.7/dist-packages (0.1.0)\n",
            "Requirement already satisfied: statsmodels==0.12.2 in /usr/local/lib/python3.7/dist-packages (from ydata_quality) (0.12.2)\n",
            "Requirement already satisfied: pydantic==1.8.2 in /usr/local/lib/python3.7/dist-packages (from ydata_quality) (1.8.2)\n",
            "Requirement already satisfied: scikit-learn==0.24.2 in /usr/local/lib/python3.7/dist-packages (from ydata_quality) (0.24.2)\n",
            "Requirement already satisfied: dython==0.6.7 in /usr/local/lib/python3.7/dist-packages (from ydata_quality) (0.6.7)\n",
            "Requirement already satisfied: matplotlib==3.4.2 in /usr/local/lib/python3.7/dist-packages (from ydata_quality) (3.4.2)\n",
            "Requirement already satisfied: pandas==1.2.* in /usr/local/lib/python3.7/dist-packages (from ydata_quality) (1.2.5)\n",
            "Requirement already satisfied: numpy==1.20.3 in /usr/local/lib/python3.7/dist-packages (from ydata_quality) (1.20.3)\n",
            "Requirement already satisfied: scipy in /usr/local/lib/python3.7/dist-packages (from dython==0.6.7->ydata_quality) (1.7.3)\n",
            "Requirement already satisfied: scikit-plot>=0.3.7 in /usr/local/lib/python3.7/dist-packages (from dython==0.6.7->ydata_quality) (0.3.7)\n",
            "Requirement already satisfied: seaborn in /usr/local/lib/python3.7/dist-packages (from dython==0.6.7->ydata_quality) (0.11.2)\n",
            "Requirement already satisfied: cycler>=0.10 in /usr/local/lib/python3.7/dist-packages (from matplotlib==3.4.2->ydata_quality) (0.11.0)\n",
            "Requirement already satisfied: python-dateutil>=2.7 in /usr/local/lib/python3.7/dist-packages (from matplotlib==3.4.2->ydata_quality) (2.8.2)\n",
            "Requirement already satisfied: pillow>=6.2.0 in /usr/local/lib/python3.7/dist-packages (from matplotlib==3.4.2->ydata_quality) (7.1.2)\n",
            "Requirement already satisfied: pyparsing>=2.2.1 in /usr/local/lib/python3.7/dist-packages (from matplotlib==3.4.2->ydata_quality) (3.0.9)\n",
            "Requirement already satisfied: kiwisolver>=1.0.1 in /usr/local/lib/python3.7/dist-packages (from matplotlib==3.4.2->ydata_quality) (1.4.4)\n",
            "Requirement already satisfied: pytz>=2017.3 in /usr/local/lib/python3.7/dist-packages (from pandas==1.2.*->ydata_quality) (2022.2.1)\n",
            "Requirement already satisfied: typing-extensions>=3.7.4.3 in /usr/local/lib/python3.7/dist-packages (from pydantic==1.8.2->ydata_quality) (4.1.1)\n",
            "Requirement already satisfied: threadpoolctl>=2.0.0 in /usr/local/lib/python3.7/dist-packages (from scikit-learn==0.24.2->ydata_quality) (3.1.0)\n",
            "Requirement already satisfied: joblib>=0.11 in /usr/local/lib/python3.7/dist-packages (from scikit-learn==0.24.2->ydata_quality) (1.1.0)\n",
            "Requirement already satisfied: patsy>=0.5 in /usr/local/lib/python3.7/dist-packages (from statsmodels==0.12.2->ydata_quality) (0.5.2)\n",
            "Requirement already satisfied: six in /usr/local/lib/python3.7/dist-packages (from patsy>=0.5->statsmodels==0.12.2->ydata_quality) (1.15.0)\n",
            "Looking in indexes: https://pypi.org/simple, https://us-python.pkg.dev/colab-wheels/public/simple/\n",
            "Requirement already satisfied: termcolor in /usr/local/lib/python3.7/dist-packages (1.1.0)\n",
            "Looking in indexes: https://pypi.org/simple, https://us-python.pkg.dev/colab-wheels/public/simple/\n",
            "Requirement already satisfied: klib in /usr/local/lib/python3.7/dist-packages (1.0.1)\n",
            "Requirement already satisfied: seaborn<0.12.0,>=0.11.1 in /usr/local/lib/python3.7/dist-packages (from klib) (0.11.2)\n",
            "Requirement already satisfied: matplotlib<4.0.0,>=3.0.3 in /usr/local/lib/python3.7/dist-packages (from klib) (3.4.2)\n",
            "Requirement already satisfied: Jinja2<4.0.0,>=3.0.3 in /usr/local/lib/python3.7/dist-packages (from klib) (3.1.2)\n",
            "Requirement already satisfied: scipy<2.0.0,>=1.1.0 in /usr/local/lib/python3.7/dist-packages (from klib) (1.7.3)\n",
            "Requirement already satisfied: numpy<2.0.0,>=1.16.3 in /usr/local/lib/python3.7/dist-packages (from klib) (1.20.3)\n",
            "Requirement already satisfied: pandas<2.0.0,>=1.1.2 in /usr/local/lib/python3.7/dist-packages (from klib) (1.2.5)\n",
            "Requirement already satisfied: MarkupSafe>=2.0 in /usr/local/lib/python3.7/dist-packages (from Jinja2<4.0.0,>=3.0.3->klib) (2.0.1)\n",
            "Requirement already satisfied: kiwisolver>=1.0.1 in /usr/local/lib/python3.7/dist-packages (from matplotlib<4.0.0,>=3.0.3->klib) (1.4.4)\n",
            "Requirement already satisfied: python-dateutil>=2.7 in /usr/local/lib/python3.7/dist-packages (from matplotlib<4.0.0,>=3.0.3->klib) (2.8.2)\n",
            "Requirement already satisfied: pillow>=6.2.0 in /usr/local/lib/python3.7/dist-packages (from matplotlib<4.0.0,>=3.0.3->klib) (7.1.2)\n",
            "Requirement already satisfied: pyparsing>=2.2.1 in /usr/local/lib/python3.7/dist-packages (from matplotlib<4.0.0,>=3.0.3->klib) (3.0.9)\n",
            "Requirement already satisfied: cycler>=0.10 in /usr/local/lib/python3.7/dist-packages (from matplotlib<4.0.0,>=3.0.3->klib) (0.11.0)\n",
            "Requirement already satisfied: typing-extensions in /usr/local/lib/python3.7/dist-packages (from kiwisolver>=1.0.1->matplotlib<4.0.0,>=3.0.3->klib) (4.1.1)\n",
            "Requirement already satisfied: pytz>=2017.3 in /usr/local/lib/python3.7/dist-packages (from pandas<2.0.0,>=1.1.2->klib) (2022.2.1)\n",
            "Requirement already satisfied: six>=1.5 in /usr/local/lib/python3.7/dist-packages (from python-dateutil>=2.7->matplotlib<4.0.0,>=3.0.3->klib) (1.15.0)\n"
          ]
        }
      ],
      "source": [
        "!pip install pyforest\n",
        "!pip install ydata_quality\n",
        "!pip install termcolor\n",
        "!pip install --upgrade klib"
      ]
    },
    {
      "cell_type": "code",
      "execution_count": 155,
      "metadata": {
        "colab": {
          "base_uri": "https://localhost:8080/",
          "height": 17
        },
        "id": "Os4FgPbTQOQB",
        "outputId": "3396e710-edde-4d2a-f6db-b35139ec69d1"
      },
      "outputs": [
        {
          "output_type": "display_data",
          "data": {
            "text/html": [
              "        <script type=\"text/javascript\">\n",
              "        window.PlotlyConfig = {MathJaxConfig: 'local'};\n",
              "        if (window.MathJax) {MathJax.Hub.Config({SVG: {font: \"STIX-Web\"}});}\n",
              "        if (typeof require !== 'undefined') {\n",
              "        require.undef(\"plotly\");\n",
              "        requirejs.config({\n",
              "            paths: {\n",
              "                'plotly': ['https://cdn.plot.ly/plotly-2.8.3.min']\n",
              "            }\n",
              "        });\n",
              "        require(['plotly'], function(Plotly) {\n",
              "            window._Plotly = Plotly;\n",
              "        });\n",
              "        }\n",
              "        </script>\n",
              "        "
            ]
          },
          "metadata": {}
        }
      ],
      "source": [
        "import pandas_profiling\n",
        "import pyforest\n",
        "\n",
        "import ipywidgets\n",
        "from ipywidgets import interact\n",
        "\n",
        "import numpy as np\n",
        "import pandas as pd \n",
        "\n",
        "import seaborn as sns\n",
        "import matplotlib.pyplot as plt\n",
        "%matplotlib inline\n",
        "import matplotlib.ticker as mticker\n",
        "\n",
        "# Importing plotly and cufflinks in offline mode\n",
        "import plotly.express as px\n",
        "import cufflinks as cf\n",
        "import plotly.offline\n",
        "import io\n",
        "cf.go_offline()\n",
        "cf.set_config_file(offline=False, world_readable=True)\n",
        "\n",
        "from termcolor import colored\n",
        "from termcolor import cprint\n",
        "from wordcloud import WordCloud\n",
        "\n",
        "import scipy.stats as stats\n",
        "import statsmodels.api as sm\n",
        "import statsmodels.formula.api as smf\n",
        "import missingno as msno \n",
        "import klib\n",
        "\n",
        "import datetime as dt\n",
        "from datetime import datetime\n",
        "from sklearn.cluster import KMeans\n",
        "from sklearn.compose import make_column_transformer\n",
        "from sklearn.decomposition import PCA\n",
        "from sklearn.discriminant_analysis import LinearDiscriminantAnalysis\n",
        "from sklearn.ensemble import RandomForestRegressor, RandomForestClassifier, GradientBoostingRegressor \n",
        "from sklearn.ensemble import ExtraTreesRegressor, AdaBoostClassifier\n",
        "from sklearn.feature_selection import SelectKBest, SelectPercentile, f_classif, f_regression, mutual_info_regression\n",
        "from sklearn.impute import SimpleImputer, KNNImputer\n",
        "from sklearn.linear_model import LinearRegression, Lasso, Ridge, ElasticNet\n",
        "from sklearn.metrics import plot_confusion_matrix, r2_score, mean_absolute_error, mean_squared_error, classification_report \n",
        "from sklearn.metrics import confusion_matrix, accuracy_score, classification_report\n",
        "from sklearn.metrics import make_scorer, precision_score, precision_recall_curve, plot_precision_recall_curve \n",
        "from sklearn.metrics import plot_roc_curve, roc_auc_score, roc_curve, f1_score, accuracy_score, recall_score\n",
        "from sklearn.model_selection import RepeatedStratifiedKFold, KFold, cross_val_predict, train_test_split\n",
        "from sklearn.model_selection import StratifiedKFold, GridSearchCV, cross_val_score, cross_validate\n",
        "from sklearn.naive_bayes import GaussianNB\n",
        "from sklearn.neighbors import KNeighborsRegressor, KNeighborsClassifier\n",
        "from sklearn.pipeline import make_pipeline, Pipeline\n",
        "from sklearn.preprocessing import scale, StandardScaler, MinMaxScaler, RobustScaler\n",
        "from sklearn.preprocessing import PolynomialFeatures, OneHotEncoder, PowerTransformer, LabelEncoder \n",
        "from sklearn.svm import SVR, SVC\n",
        "from sklearn.tree import plot_tree, DecisionTreeClassifier\n",
        "from ydata_quality import DataQuality\n",
        "from ydata_quality.duplicates import DuplicateChecker\n",
        "from ydata_quality.erroneous_data import ErroneousDataIdentifier\n",
        "\n",
        "from xgboost import XGBRegressor, XGBClassifier, plot_importance\n",
        "\n",
        "# Ignore Warnings\n",
        "import warnings\n",
        "warnings.filterwarnings(\"ignore\")\n",
        "warnings.warn(\"this will not show\")\n",
        "\n",
        "# Figure&Display options\n",
        "plt.rcParams[\"figure.figsize\"] = (10,6)\n",
        "pd.set_option('max_colwidth',200)\n",
        "pd.set_option('display.max_rows', 1000)\n",
        "pd.set_option('display.max_columns', 200)\n",
        "pd.set_option('display.float_format', lambda x: '%.3f' % x)"
      ]
    },
    {
      "cell_type": "markdown",
      "metadata": {
        "id": "xczZxUDBd9i3"
      },
      "source": [
        "# Functions for Data Summary"
      ]
    },
    {
      "cell_type": "code",
      "execution_count": 156,
      "metadata": {
        "id": "lPK58SfythWn"
      },
      "outputs": [],
      "source": [
        "def Data_Summary(df):\n",
        "    print(colored(\"Shape:\", attrs=['bold']), df.shape,'\\n', \n",
        "          colored('*'*100, 'red', attrs = ['bold']),\n",
        "          colored(\"\\nInfo:\\n\", attrs = ['bold']), sep = '')\n",
        "    print(df.info(), '\\n', \n",
        "          colored('*'*100, 'red', attrs = ['bold']), sep = '')\n",
        "    print(colored(\"Number of Uniques:\\n\", attrs = ['bold']), df.nunique(),'\\n',\n",
        "          colored('*'*100, 'red', attrs = ['bold']), sep = '')\n",
        "    #print(colored(\"Missing Values:\\n\", attrs=['bold']), missing_values(df),'\\n', \n",
        "    #      colored('*'*100, 'red', attrs = ['bold']), sep = '')\n",
        "    print(colored(\"All Columns:\", attrs = ['bold']), list(df.columns),'\\n', \n",
        "          colored('*'*100, 'red', attrs = ['bold']), sep = '')\n",
        "\n",
        "    df.columns = df.columns.str.lower().str.replace('&', '_').str.replace(' ', '_')\n",
        "    #print(colored(\"Columns after rename:\", attrs = ['bold']), list(df.columns),'\\n',\n",
        "    #      colored('*'*100, 'red', attrs = ['bold']), sep = '')  \n",
        "    print(colored(\"Descriptive Statistics \\n\", attrs = ['bold']), df.describe().round(2),'\\n',\n",
        "          colored('*'*100, 'red', attrs = ['bold']), sep = '') # Gives a statstical breakdown of the data.\n",
        "    #print(colored(\"Descriptive Statistics (Categorical Columns) \\n\", attrs = ['bold']), df.describe(include = object).T,'\\n',\n",
        "    #     colored('*'*100, 'red', attrs = ['bold']), sep = '') # Gives a statstical breakdown of the data."
      ]
    },
    {
      "cell_type": "markdown",
      "metadata": {
        "id": "A9dT1XfBeKht"
      },
      "source": [
        "# Functions for Missing Values, Multicolinearity and Duplicated Values"
      ]
    },
    {
      "cell_type": "code",
      "execution_count": 157,
      "metadata": {
        "id": "CgGjfh3DUscb"
      },
      "outputs": [],
      "source": [
        "def missing_values(df):\n",
        "    missing_number = df.isnull().sum().sort_values(ascending = False)\n",
        "    missing_percent = (df.isnull().sum() / df.isnull().count()).sort_values(ascending = False)\n",
        "    missing_values = pd.concat([missing_number, missing_percent], axis = 1, keys = ['Missing_Number', 'Missing_Percent'])\n",
        "    return missing_values[missing_values['Missing_Number'] > 0]"
      ]
    },
    {
      "cell_type": "code",
      "execution_count": 158,
      "metadata": {
        "id": "hmGGzXYZcpeO"
      },
      "outputs": [],
      "source": [
        "def multicolinearity_control(df):\n",
        "  feature = []\n",
        "  collinear = []\n",
        "  for col in df.corr().columns:\n",
        "    for i in df.corr().index:\n",
        "      if (abs(df.corr()[col][i]) > .9 and abs(df.corr()[col][i]) < 1):\n",
        "        feature.append(col)\n",
        "        collinear.append(i)\n",
        "        print(colored(f\"Multicolinearity alert in between:{col} - {i}\", \n",
        "                                  \"red\", attrs = ['bold']), df.shape,'\\n',\n",
        "                                  colored('*'*100, 'red', attrs = ['bold']), sep = '')\n",
        "  if len(collinear)==0:\n",
        "    print(\"No Multicoliearity, Correlation between collumns is NOT over %90\")\n",
        "\n",
        "def duplicate_values(df):\n",
        "    print(\"There are\", df.duplicated(subset = None, keep = 'first').sum(), \"duplicated observations in the dataset.\")\n",
        "    duplicate_values = df.duplicated(subset = None, keep = 'first').sum()\n",
        "    #if duplicate_values > 0:\n",
        "        #df.drop_duplicates(keep = 'first', inplace = True)\n",
        "        #print(duplicate_values, colored(\" Duplicates were dropped!\"),'\\n',\n",
        "              #colored('*'*100, 'red', attrs = ['bold']), sep = '')\n",
        "#     else:\n",
        "#         print(colored(\"There are no duplicates\"),'\\n',\n",
        "#               colored('*'*100, 'red', attrs = ['bold']), sep = '')     \n",
        "        \n",
        "# def drop_columns(df, drop_columns):\n",
        "#     if drop_columns != []:\n",
        "#         df.drop(drop_columns, axis = 1, inplace = True)\n",
        "#         print(drop_columns, 'were dropped')\n",
        "#     else:\n",
        "#         print(colored('We will now check the missing values and if necessary, the related columns will be dropped!', attrs = ['bold']),'\\n',\n",
        "#               colored('*'*100, 'red', attrs = ['bold']), sep = '')\n",
        "        "
      ]
    },
    {
      "cell_type": "markdown",
      "metadata": {
        "id": "mCsb1-xweUEH"
      },
      "source": [
        "# Loading Dataset"
      ]
    },
    {
      "cell_type": "code",
      "execution_count": 159,
      "metadata": {
        "id": "wmur3xKFPrV6"
      },
      "outputs": [],
      "source": [
        "df=pd.read_csv(\"/content/QualityTestData.csv\")"
      ]
    },
    {
      "cell_type": "markdown",
      "metadata": {
        "id": "3ba2B0TEeakM"
      },
      "source": [
        "# Data Summary"
      ]
    },
    {
      "cell_type": "code",
      "execution_count": 160,
      "metadata": {
        "colab": {
          "base_uri": "https://localhost:8080/"
        },
        "id": "Y36efYnFtp57",
        "outputId": "58a62749-e9ef-4a4b-9496-3879027cae29"
      },
      "outputs": [
        {
          "output_type": "stream",
          "name": "stdout",
          "text": [
            "\u001b[1mShape:\u001b[0m(31, 9)\n",
            "\u001b[1m\u001b[31m****************************************************************************************************\u001b[0m\u001b[1m\n",
            "Info:\n",
            "\u001b[0m\n",
            "<class 'pandas.core.frame.DataFrame'>\n",
            "RangeIndex: 31 entries, 0 to 30\n",
            "Data columns (total 9 columns):\n",
            " #   Column     Non-Null Count  Dtype  \n",
            "---  ------     --------------  -----  \n",
            " 0   Age        31 non-null     int64  \n",
            " 1   Gender     30 non-null     object \n",
            " 2   Height     30 non-null     float64\n",
            " 3   Weight     29 non-null     float64\n",
            " 4   Salary     31 non-null     int64  \n",
            " 5   Job        29 non-null     object \n",
            " 6   Sex        31 non-null     object \n",
            " 7   Weight LB  30 non-null     float64\n",
            " 8   Name       29 non-null     object \n",
            "dtypes: float64(3), int64(2), object(4)\n",
            "memory usage: 2.3+ KB\n",
            "None\n",
            "\u001b[1m\u001b[31m****************************************************************************************************\u001b[0m\n",
            "\u001b[1mNumber of Uniques:\n",
            "\u001b[0mAge          12\n",
            "Gender        2\n",
            "Height       22\n",
            "Weight       16\n",
            "Salary       14\n",
            "Job           5\n",
            "Sex           2\n",
            "Weight LB    16\n",
            "Name          9\n",
            "dtype: int64\n",
            "\u001b[1m\u001b[31m****************************************************************************************************\u001b[0m\n",
            "\u001b[1mAll Columns:\u001b[0m['Age', 'Gender', 'Height', 'Weight', 'Salary', 'Job', 'Sex', 'Weight LB', 'Name']\n",
            "\u001b[1m\u001b[31m****************************************************************************************************\u001b[0m\n",
            "\u001b[1mDescriptive Statistics \n",
            "\u001b[0m         age  height  weight    salary  weight_lb\n",
            "count 31.000  30.000  29.000    31.000     30.000\n",
            "mean  41.320 183.500  70.930 15458.060    711.330\n",
            "std    7.760  13.500  11.560  3573.680    108.010\n",
            "min   23.000 145.000  44.000  9000.000    440.000\n",
            "25%   38.500 178.160  66.000 12000.000    660.000\n",
            "50%   45.000 186.360  75.000 15000.000    745.000\n",
            "75%   46.000 194.080  77.000 19000.000    770.000\n",
            "max   48.000 198.000  88.000 22500.000    880.000\n",
            "\u001b[1m\u001b[31m****************************************************************************************************\u001b[0m\n"
          ]
        }
      ],
      "source": [
        "Data_Summary(df)"
      ]
    },
    {
      "cell_type": "markdown",
      "metadata": {
        "id": "3ILfN0trfmpg"
      },
      "source": [
        "# Missing Values, Multicolienaity and Duplicated Values"
      ]
    },
    {
      "cell_type": "code",
      "source": [
        "feature = []\n",
        "collinear = []\n",
        "for col in df.corr().columns:\n",
        "  for i in df.corr().index:\n",
        "    if (abs(df.corr()[col][i]) > .9 and abs(df.corr()[col][i]) < 1):\n",
        "      feature.append(col)\n",
        "      collinear.append(i)\n",
        "      print(colored(f\"Multicolinearity alert in between:{col} - {i}\", \n",
        "                                  \"red\", attrs = ['bold']), df.shape,'\\n',\n",
        "                                  colored('*'*100, 'red', attrs = ['bold']), sep = '')\n",
        "if len(collinear)==0:\n",
        "  print(\"No Multicoliearity, Correlation between collumns is NOT over %90\")"
      ],
      "metadata": {
        "colab": {
          "base_uri": "https://localhost:8080/"
        },
        "id": "3FNBO8yqoQWU",
        "outputId": "506a753d-ae7a-4ae2-a568-c6f1de655179"
      },
      "execution_count": 161,
      "outputs": [
        {
          "output_type": "stream",
          "name": "stdout",
          "text": [
            "\u001b[1m\u001b[31mMulticolinearity alert in between:weight - weight_lb\u001b[0m(31, 9)\n",
            "\u001b[1m\u001b[31m****************************************************************************************************\u001b[0m\n",
            "\u001b[1m\u001b[31mMulticolinearity alert in between:weight_lb - weight\u001b[0m(31, 9)\n",
            "\u001b[1m\u001b[31m****************************************************************************************************\u001b[0m\n"
          ]
        }
      ]
    },
    {
      "cell_type": "code",
      "execution_count": 162,
      "metadata": {
        "id": "WphsK6pXV5wl",
        "colab": {
          "base_uri": "https://localhost:8080/"
        },
        "outputId": "3ad525ec-38d8-44a4-8a4e-bf73b5ce5549"
      },
      "outputs": [
        {
          "output_type": "stream",
          "name": "stdout",
          "text": [
            "\u001b[1m\u001b[31mMulticolinearity alert in between:weight - weight_lb\u001b[0m(31, 9)\n",
            "\u001b[1m\u001b[31m****************************************************************************************************\u001b[0m\n",
            "\u001b[1m\u001b[31mMulticolinearity alert in between:weight_lb - weight\u001b[0m(31, 9)\n",
            "\u001b[1m\u001b[31m****************************************************************************************************\u001b[0m\n"
          ]
        }
      ],
      "source": [
        "multicolinearity_control(df)"
      ]
    },
    {
      "cell_type": "code",
      "execution_count": 163,
      "metadata": {
        "colab": {
          "base_uri": "https://localhost:8080/"
        },
        "id": "gCW8genZdJ6C",
        "outputId": "d9308ad2-bc68-4c0f-9e8c-dc131844537b"
      },
      "outputs": [
        {
          "output_type": "stream",
          "name": "stdout",
          "text": [
            "There are 5 duplicated observations in the dataset.\n"
          ]
        }
      ],
      "source": [
        "duplicate_values(df)"
      ]
    },
    {
      "cell_type": "code",
      "execution_count": 164,
      "metadata": {
        "colab": {
          "base_uri": "https://localhost:8080/",
          "height": 238
        },
        "id": "V1zS7lWrc3dS",
        "outputId": "4aae5c18-83f1-4010-91f9-55c2d74c7596"
      },
      "outputs": [
        {
          "output_type": "execute_result",
          "data": {
            "text/plain": [
              "           Missing_Number  Missing_Percent\n",
              "weight                  2            0.065\n",
              "job                     2            0.065\n",
              "name                    2            0.065\n",
              "gender                  1            0.032\n",
              "height                  1            0.032\n",
              "weight_lb               1            0.032"
            ],
            "text/html": [
              "\n",
              "  <div id=\"df-fc6cafb7-3e7e-4414-a4e9-9c56585c697c\">\n",
              "    <div class=\"colab-df-container\">\n",
              "      <div>\n",
              "<style scoped>\n",
              "    .dataframe tbody tr th:only-of-type {\n",
              "        vertical-align: middle;\n",
              "    }\n",
              "\n",
              "    .dataframe tbody tr th {\n",
              "        vertical-align: top;\n",
              "    }\n",
              "\n",
              "    .dataframe thead th {\n",
              "        text-align: right;\n",
              "    }\n",
              "</style>\n",
              "<table border=\"1\" class=\"dataframe\">\n",
              "  <thead>\n",
              "    <tr style=\"text-align: right;\">\n",
              "      <th></th>\n",
              "      <th>Missing_Number</th>\n",
              "      <th>Missing_Percent</th>\n",
              "    </tr>\n",
              "  </thead>\n",
              "  <tbody>\n",
              "    <tr>\n",
              "      <th>weight</th>\n",
              "      <td>2</td>\n",
              "      <td>0.065</td>\n",
              "    </tr>\n",
              "    <tr>\n",
              "      <th>job</th>\n",
              "      <td>2</td>\n",
              "      <td>0.065</td>\n",
              "    </tr>\n",
              "    <tr>\n",
              "      <th>name</th>\n",
              "      <td>2</td>\n",
              "      <td>0.065</td>\n",
              "    </tr>\n",
              "    <tr>\n",
              "      <th>gender</th>\n",
              "      <td>1</td>\n",
              "      <td>0.032</td>\n",
              "    </tr>\n",
              "    <tr>\n",
              "      <th>height</th>\n",
              "      <td>1</td>\n",
              "      <td>0.032</td>\n",
              "    </tr>\n",
              "    <tr>\n",
              "      <th>weight_lb</th>\n",
              "      <td>1</td>\n",
              "      <td>0.032</td>\n",
              "    </tr>\n",
              "  </tbody>\n",
              "</table>\n",
              "</div>\n",
              "      <button class=\"colab-df-convert\" onclick=\"convertToInteractive('df-fc6cafb7-3e7e-4414-a4e9-9c56585c697c')\"\n",
              "              title=\"Convert this dataframe to an interactive table.\"\n",
              "              style=\"display:none;\">\n",
              "        \n",
              "  <svg xmlns=\"http://www.w3.org/2000/svg\" height=\"24px\"viewBox=\"0 0 24 24\"\n",
              "       width=\"24px\">\n",
              "    <path d=\"M0 0h24v24H0V0z\" fill=\"none\"/>\n",
              "    <path d=\"M18.56 5.44l.94 2.06.94-2.06 2.06-.94-2.06-.94-.94-2.06-.94 2.06-2.06.94zm-11 1L8.5 8.5l.94-2.06 2.06-.94-2.06-.94L8.5 2.5l-.94 2.06-2.06.94zm10 10l.94 2.06.94-2.06 2.06-.94-2.06-.94-.94-2.06-.94 2.06-2.06.94z\"/><path d=\"M17.41 7.96l-1.37-1.37c-.4-.4-.92-.59-1.43-.59-.52 0-1.04.2-1.43.59L10.3 9.45l-7.72 7.72c-.78.78-.78 2.05 0 2.83L4 21.41c.39.39.9.59 1.41.59.51 0 1.02-.2 1.41-.59l7.78-7.78 2.81-2.81c.8-.78.8-2.07 0-2.86zM5.41 20L4 18.59l7.72-7.72 1.47 1.35L5.41 20z\"/>\n",
              "  </svg>\n",
              "      </button>\n",
              "      \n",
              "  <style>\n",
              "    .colab-df-container {\n",
              "      display:flex;\n",
              "      flex-wrap:wrap;\n",
              "      gap: 12px;\n",
              "    }\n",
              "\n",
              "    .colab-df-convert {\n",
              "      background-color: #E8F0FE;\n",
              "      border: none;\n",
              "      border-radius: 50%;\n",
              "      cursor: pointer;\n",
              "      display: none;\n",
              "      fill: #1967D2;\n",
              "      height: 32px;\n",
              "      padding: 0 0 0 0;\n",
              "      width: 32px;\n",
              "    }\n",
              "\n",
              "    .colab-df-convert:hover {\n",
              "      background-color: #E2EBFA;\n",
              "      box-shadow: 0px 1px 2px rgba(60, 64, 67, 0.3), 0px 1px 3px 1px rgba(60, 64, 67, 0.15);\n",
              "      fill: #174EA6;\n",
              "    }\n",
              "\n",
              "    [theme=dark] .colab-df-convert {\n",
              "      background-color: #3B4455;\n",
              "      fill: #D2E3FC;\n",
              "    }\n",
              "\n",
              "    [theme=dark] .colab-df-convert:hover {\n",
              "      background-color: #434B5C;\n",
              "      box-shadow: 0px 1px 3px 1px rgba(0, 0, 0, 0.15);\n",
              "      filter: drop-shadow(0px 1px 2px rgba(0, 0, 0, 0.3));\n",
              "      fill: #FFFFFF;\n",
              "    }\n",
              "  </style>\n",
              "\n",
              "      <script>\n",
              "        const buttonEl =\n",
              "          document.querySelector('#df-fc6cafb7-3e7e-4414-a4e9-9c56585c697c button.colab-df-convert');\n",
              "        buttonEl.style.display =\n",
              "          google.colab.kernel.accessAllowed ? 'block' : 'none';\n",
              "\n",
              "        async function convertToInteractive(key) {\n",
              "          const element = document.querySelector('#df-fc6cafb7-3e7e-4414-a4e9-9c56585c697c');\n",
              "          const dataTable =\n",
              "            await google.colab.kernel.invokeFunction('convertToInteractive',\n",
              "                                                     [key], {});\n",
              "          if (!dataTable) return;\n",
              "\n",
              "          const docLinkHtml = 'Like what you see? Visit the ' +\n",
              "            '<a target=\"_blank\" href=https://colab.research.google.com/notebooks/data_table.ipynb>data table notebook</a>'\n",
              "            + ' to learn more about interactive tables.';\n",
              "          element.innerHTML = '';\n",
              "          dataTable['output_type'] = 'display_data';\n",
              "          await google.colab.output.renderOutput(dataTable, element);\n",
              "          const docLink = document.createElement('div');\n",
              "          docLink.innerHTML = docLinkHtml;\n",
              "          element.appendChild(docLink);\n",
              "        }\n",
              "      </script>\n",
              "    </div>\n",
              "  </div>\n",
              "  "
            ]
          },
          "metadata": {},
          "execution_count": 164
        }
      ],
      "source": [
        "missing_values(df)"
      ]
    },
    {
      "cell_type": "code",
      "execution_count": 165,
      "metadata": {
        "id": "3p_hwuqGCWlS"
      },
      "outputs": [],
      "source": [
        "dc = DuplicateChecker(df=df)"
      ]
    },
    {
      "cell_type": "code",
      "execution_count": 166,
      "metadata": {
        "colab": {
          "base_uri": "https://localhost:8080/"
        },
        "id": "DUbi5ndNCcCv",
        "outputId": "9833b8f4-aa4f-457b-db30-2ae4f2e90d2a"
      },
      "outputs": [
        {
          "output_type": "stream",
          "name": "stdout",
          "text": [
            "WARNING | There are no entities defined to run the analysis. Skipping the test.\n",
            "INFO | No duplicate columns were found.\n",
            "\u001b[1mWarnings:\u001b[0m\n",
            "\tTOTAL: 1 warning(s)\n",
            "\t\u001b[1m\u001b[38;5;11mPriority 2\u001b[0m: 1 warning(s)\n",
            "\n",
            "\n",
            "\u001b[38;5;11m\u001b[1mPriority 2\u001b[0m - \u001b[1musage allowed, limited human intelligibility\u001b[0m:\n",
            "\t\u001b[38;5;11m*\u001b[0m \u001b[1m[DUPLICATES\u001b[0m - \u001b[4mEXACT DUPLICATES]\u001b[0m Found 5 instances with exact duplicate feature values.\n",
            "\n"
          ]
        },
        {
          "output_type": "execute_result",
          "data": {
            "text/plain": [
              "dict_keys(['exact_duplicates', 'entity_duplicates', 'duplicate_columns'])"
            ]
          },
          "metadata": {},
          "execution_count": 166
        }
      ],
      "source": [
        "results = dc.evaluate()\n",
        "results.keys()"
      ]
    },
    {
      "cell_type": "code",
      "execution_count": 167,
      "metadata": {
        "id": "PcYBO0cnEO0K"
      },
      "outputs": [],
      "source": [
        "# Retrieve the warnings\n",
        "warnings = dc.get_warnings()"
      ]
    },
    {
      "cell_type": "code",
      "execution_count": 168,
      "metadata": {
        "id": "G6ii5KqnETcu"
      },
      "outputs": [],
      "source": [
        "exact_duplicates_out = dc.exact_duplicates()"
      ]
    },
    {
      "cell_type": "code",
      "execution_count": 169,
      "metadata": {
        "colab": {
          "base_uri": "https://localhost:8080/"
        },
        "id": "yJyp6TWSF5Pv",
        "outputId": "61a04776-14fc-4785-ec32-294ceb02683c"
      },
      "outputs": [
        {
          "output_type": "stream",
          "name": "stdout",
          "text": [
            "INFO | No duplicate columns were found.\n"
          ]
        }
      ],
      "source": [
        "dc.duplicate_columns()"
      ]
    },
    {
      "cell_type": "code",
      "execution_count": 170,
      "metadata": {
        "id": "8g6YXEhUGJPq"
      },
      "outputs": [],
      "source": [
        "edi = ErroneousDataIdentifier(df=df)"
      ]
    },
    {
      "cell_type": "code",
      "execution_count": 171,
      "metadata": {
        "colab": {
          "base_uri": "https://localhost:8080/"
        },
        "id": "0kCtbgyyGVfg",
        "outputId": "a2a97003-c802-45b7-82f7-4da951cbd49c"
      },
      "outputs": [
        {
          "output_type": "stream",
          "name": "stdout",
          "text": [
            "\u001b[1mWarnings:\u001b[0m\n",
            "\tTOTAL: 1 warning(s)\n",
            "\t\u001b[1m\u001b[38;5;11mPriority 2\u001b[0m: 1 warning(s)\n",
            "\n",
            "\n",
            "\u001b[38;5;11m\u001b[1mPriority 2\u001b[0m - \u001b[1musage allowed, limited human intelligibility\u001b[0m:\n",
            "\t\u001b[38;5;11m*\u001b[0m \u001b[1m[ERRONEOUS DATA\u001b[0m - \u001b[4mPREDEFINED ERRONEOUS DATA]\u001b[0m Found 19 ED values in the dataset.\n",
            "\n"
          ]
        },
        {
          "output_type": "execute_result",
          "data": {
            "text/plain": [
              "{'predefined_erroneous_data':         name\n",
              " unknown   15\n",
              " ?          4}"
            ]
          },
          "metadata": {},
          "execution_count": 171
        }
      ],
      "source": [
        "edi.evaluate()"
      ]
    },
    {
      "cell_type": "code",
      "source": [
        "edi.predefined_erroneous_data()"
      ],
      "metadata": {
        "colab": {
          "base_uri": "https://localhost:8080/",
          "height": 112
        },
        "id": "cVxlIoYl0j0l",
        "outputId": "d8921e05-17e9-4d40-80a1-dcba22ad5222"
      },
      "execution_count": 172,
      "outputs": [
        {
          "output_type": "execute_result",
          "data": {
            "text/plain": [
              "        name\n",
              "unknown   15\n",
              "?          4"
            ],
            "text/html": [
              "\n",
              "  <div id=\"df-394d4a62-3828-4286-a0e1-a83f81ebdc93\">\n",
              "    <div class=\"colab-df-container\">\n",
              "      <div>\n",
              "<style scoped>\n",
              "    .dataframe tbody tr th:only-of-type {\n",
              "        vertical-align: middle;\n",
              "    }\n",
              "\n",
              "    .dataframe tbody tr th {\n",
              "        vertical-align: top;\n",
              "    }\n",
              "\n",
              "    .dataframe thead th {\n",
              "        text-align: right;\n",
              "    }\n",
              "</style>\n",
              "<table border=\"1\" class=\"dataframe\">\n",
              "  <thead>\n",
              "    <tr style=\"text-align: right;\">\n",
              "      <th></th>\n",
              "      <th>name</th>\n",
              "    </tr>\n",
              "  </thead>\n",
              "  <tbody>\n",
              "    <tr>\n",
              "      <th>unknown</th>\n",
              "      <td>15</td>\n",
              "    </tr>\n",
              "    <tr>\n",
              "      <th>?</th>\n",
              "      <td>4</td>\n",
              "    </tr>\n",
              "  </tbody>\n",
              "</table>\n",
              "</div>\n",
              "      <button class=\"colab-df-convert\" onclick=\"convertToInteractive('df-394d4a62-3828-4286-a0e1-a83f81ebdc93')\"\n",
              "              title=\"Convert this dataframe to an interactive table.\"\n",
              "              style=\"display:none;\">\n",
              "        \n",
              "  <svg xmlns=\"http://www.w3.org/2000/svg\" height=\"24px\"viewBox=\"0 0 24 24\"\n",
              "       width=\"24px\">\n",
              "    <path d=\"M0 0h24v24H0V0z\" fill=\"none\"/>\n",
              "    <path d=\"M18.56 5.44l.94 2.06.94-2.06 2.06-.94-2.06-.94-.94-2.06-.94 2.06-2.06.94zm-11 1L8.5 8.5l.94-2.06 2.06-.94-2.06-.94L8.5 2.5l-.94 2.06-2.06.94zm10 10l.94 2.06.94-2.06 2.06-.94-2.06-.94-.94-2.06-.94 2.06-2.06.94z\"/><path d=\"M17.41 7.96l-1.37-1.37c-.4-.4-.92-.59-1.43-.59-.52 0-1.04.2-1.43.59L10.3 9.45l-7.72 7.72c-.78.78-.78 2.05 0 2.83L4 21.41c.39.39.9.59 1.41.59.51 0 1.02-.2 1.41-.59l7.78-7.78 2.81-2.81c.8-.78.8-2.07 0-2.86zM5.41 20L4 18.59l7.72-7.72 1.47 1.35L5.41 20z\"/>\n",
              "  </svg>\n",
              "      </button>\n",
              "      \n",
              "  <style>\n",
              "    .colab-df-container {\n",
              "      display:flex;\n",
              "      flex-wrap:wrap;\n",
              "      gap: 12px;\n",
              "    }\n",
              "\n",
              "    .colab-df-convert {\n",
              "      background-color: #E8F0FE;\n",
              "      border: none;\n",
              "      border-radius: 50%;\n",
              "      cursor: pointer;\n",
              "      display: none;\n",
              "      fill: #1967D2;\n",
              "      height: 32px;\n",
              "      padding: 0 0 0 0;\n",
              "      width: 32px;\n",
              "    }\n",
              "\n",
              "    .colab-df-convert:hover {\n",
              "      background-color: #E2EBFA;\n",
              "      box-shadow: 0px 1px 2px rgba(60, 64, 67, 0.3), 0px 1px 3px 1px rgba(60, 64, 67, 0.15);\n",
              "      fill: #174EA6;\n",
              "    }\n",
              "\n",
              "    [theme=dark] .colab-df-convert {\n",
              "      background-color: #3B4455;\n",
              "      fill: #D2E3FC;\n",
              "    }\n",
              "\n",
              "    [theme=dark] .colab-df-convert:hover {\n",
              "      background-color: #434B5C;\n",
              "      box-shadow: 0px 1px 3px 1px rgba(0, 0, 0, 0.15);\n",
              "      filter: drop-shadow(0px 1px 2px rgba(0, 0, 0, 0.3));\n",
              "      fill: #FFFFFF;\n",
              "    }\n",
              "  </style>\n",
              "\n",
              "      <script>\n",
              "        const buttonEl =\n",
              "          document.querySelector('#df-394d4a62-3828-4286-a0e1-a83f81ebdc93 button.colab-df-convert');\n",
              "        buttonEl.style.display =\n",
              "          google.colab.kernel.accessAllowed ? 'block' : 'none';\n",
              "\n",
              "        async function convertToInteractive(key) {\n",
              "          const element = document.querySelector('#df-394d4a62-3828-4286-a0e1-a83f81ebdc93');\n",
              "          const dataTable =\n",
              "            await google.colab.kernel.invokeFunction('convertToInteractive',\n",
              "                                                     [key], {});\n",
              "          if (!dataTable) return;\n",
              "\n",
              "          const docLinkHtml = 'Like what you see? Visit the ' +\n",
              "            '<a target=\"_blank\" href=https://colab.research.google.com/notebooks/data_table.ipynb>data table notebook</a>'\n",
              "            + ' to learn more about interactive tables.';\n",
              "          element.innerHTML = '';\n",
              "          dataTable['output_type'] = 'display_data';\n",
              "          await google.colab.output.renderOutput(dataTable, element);\n",
              "          const docLink = document.createElement('div');\n",
              "          docLink.innerHTML = docLinkHtml;\n",
              "          element.appendChild(docLink);\n",
              "        }\n",
              "      </script>\n",
              "    </div>\n",
              "  </div>\n",
              "  "
            ]
          },
          "metadata": {},
          "execution_count": 172
        }
      ]
    },
    {
      "cell_type": "code",
      "execution_count": 173,
      "metadata": {
        "colab": {
          "base_uri": "https://localhost:8080/"
        },
        "id": "DrKNzCHZGy5_",
        "outputId": "1a712980-acff-43fe-e1de-a44c014924fd"
      },
      "outputs": [
        {
          "output_type": "execute_result",
          "data": {
            "text/plain": [
              "6.810035842293908"
            ]
          },
          "metadata": {},
          "execution_count": 173
        }
      ],
      "source": [
        "(edi.predefined_erroneous_data().sum()[0]/(df.shape[0]*df.shape[1]))*100"
      ]
    },
    {
      "cell_type": "code",
      "execution_count": 174,
      "metadata": {
        "colab": {
          "base_uri": "https://localhost:8080/",
          "height": 112
        },
        "id": "aMM9ZNpHXM0j",
        "outputId": "006239a2-bcd8-4707-ab9d-b63677cf0d9a"
      },
      "outputs": [
        {
          "output_type": "execute_result",
          "data": {
            "text/plain": [
              "   age gender  height  weight  salary  job    sex  weight_lb     name\n",
              "6   46  Male  198.000  66.000   15000   IT  Male     660.000  Unknown\n",
              "8   35  Male  175.821  77.000   14500  NaN  Male     770.000  Unknown"
            ],
            "text/html": [
              "\n",
              "  <div id=\"df-7fd599e7-ec45-442e-ae19-0e33e9075e3f\">\n",
              "    <div class=\"colab-df-container\">\n",
              "      <div>\n",
              "<style scoped>\n",
              "    .dataframe tbody tr th:only-of-type {\n",
              "        vertical-align: middle;\n",
              "    }\n",
              "\n",
              "    .dataframe tbody tr th {\n",
              "        vertical-align: top;\n",
              "    }\n",
              "\n",
              "    .dataframe thead th {\n",
              "        text-align: right;\n",
              "    }\n",
              "</style>\n",
              "<table border=\"1\" class=\"dataframe\">\n",
              "  <thead>\n",
              "    <tr style=\"text-align: right;\">\n",
              "      <th></th>\n",
              "      <th>age</th>\n",
              "      <th>gender</th>\n",
              "      <th>height</th>\n",
              "      <th>weight</th>\n",
              "      <th>salary</th>\n",
              "      <th>job</th>\n",
              "      <th>sex</th>\n",
              "      <th>weight_lb</th>\n",
              "      <th>name</th>\n",
              "    </tr>\n",
              "  </thead>\n",
              "  <tbody>\n",
              "    <tr>\n",
              "      <th>6</th>\n",
              "      <td>46</td>\n",
              "      <td>Male</td>\n",
              "      <td>198.000</td>\n",
              "      <td>66.000</td>\n",
              "      <td>15000</td>\n",
              "      <td>IT</td>\n",
              "      <td>Male</td>\n",
              "      <td>660.000</td>\n",
              "      <td>Unknown</td>\n",
              "    </tr>\n",
              "    <tr>\n",
              "      <th>8</th>\n",
              "      <td>35</td>\n",
              "      <td>Male</td>\n",
              "      <td>175.821</td>\n",
              "      <td>77.000</td>\n",
              "      <td>14500</td>\n",
              "      <td>NaN</td>\n",
              "      <td>Male</td>\n",
              "      <td>770.000</td>\n",
              "      <td>Unknown</td>\n",
              "    </tr>\n",
              "  </tbody>\n",
              "</table>\n",
              "</div>\n",
              "      <button class=\"colab-df-convert\" onclick=\"convertToInteractive('df-7fd599e7-ec45-442e-ae19-0e33e9075e3f')\"\n",
              "              title=\"Convert this dataframe to an interactive table.\"\n",
              "              style=\"display:none;\">\n",
              "        \n",
              "  <svg xmlns=\"http://www.w3.org/2000/svg\" height=\"24px\"viewBox=\"0 0 24 24\"\n",
              "       width=\"24px\">\n",
              "    <path d=\"M0 0h24v24H0V0z\" fill=\"none\"/>\n",
              "    <path d=\"M18.56 5.44l.94 2.06.94-2.06 2.06-.94-2.06-.94-.94-2.06-.94 2.06-2.06.94zm-11 1L8.5 8.5l.94-2.06 2.06-.94-2.06-.94L8.5 2.5l-.94 2.06-2.06.94zm10 10l.94 2.06.94-2.06 2.06-.94-2.06-.94-.94-2.06-.94 2.06-2.06.94z\"/><path d=\"M17.41 7.96l-1.37-1.37c-.4-.4-.92-.59-1.43-.59-.52 0-1.04.2-1.43.59L10.3 9.45l-7.72 7.72c-.78.78-.78 2.05 0 2.83L4 21.41c.39.39.9.59 1.41.59.51 0 1.02-.2 1.41-.59l7.78-7.78 2.81-2.81c.8-.78.8-2.07 0-2.86zM5.41 20L4 18.59l7.72-7.72 1.47 1.35L5.41 20z\"/>\n",
              "  </svg>\n",
              "      </button>\n",
              "      \n",
              "  <style>\n",
              "    .colab-df-container {\n",
              "      display:flex;\n",
              "      flex-wrap:wrap;\n",
              "      gap: 12px;\n",
              "    }\n",
              "\n",
              "    .colab-df-convert {\n",
              "      background-color: #E8F0FE;\n",
              "      border: none;\n",
              "      border-radius: 50%;\n",
              "      cursor: pointer;\n",
              "      display: none;\n",
              "      fill: #1967D2;\n",
              "      height: 32px;\n",
              "      padding: 0 0 0 0;\n",
              "      width: 32px;\n",
              "    }\n",
              "\n",
              "    .colab-df-convert:hover {\n",
              "      background-color: #E2EBFA;\n",
              "      box-shadow: 0px 1px 2px rgba(60, 64, 67, 0.3), 0px 1px 3px 1px rgba(60, 64, 67, 0.15);\n",
              "      fill: #174EA6;\n",
              "    }\n",
              "\n",
              "    [theme=dark] .colab-df-convert {\n",
              "      background-color: #3B4455;\n",
              "      fill: #D2E3FC;\n",
              "    }\n",
              "\n",
              "    [theme=dark] .colab-df-convert:hover {\n",
              "      background-color: #434B5C;\n",
              "      box-shadow: 0px 1px 3px 1px rgba(0, 0, 0, 0.15);\n",
              "      filter: drop-shadow(0px 1px 2px rgba(0, 0, 0, 0.3));\n",
              "      fill: #FFFFFF;\n",
              "    }\n",
              "  </style>\n",
              "\n",
              "      <script>\n",
              "        const buttonEl =\n",
              "          document.querySelector('#df-7fd599e7-ec45-442e-ae19-0e33e9075e3f button.colab-df-convert');\n",
              "        buttonEl.style.display =\n",
              "          google.colab.kernel.accessAllowed ? 'block' : 'none';\n",
              "\n",
              "        async function convertToInteractive(key) {\n",
              "          const element = document.querySelector('#df-7fd599e7-ec45-442e-ae19-0e33e9075e3f');\n",
              "          const dataTable =\n",
              "            await google.colab.kernel.invokeFunction('convertToInteractive',\n",
              "                                                     [key], {});\n",
              "          if (!dataTable) return;\n",
              "\n",
              "          const docLinkHtml = 'Like what you see? Visit the ' +\n",
              "            '<a target=\"_blank\" href=https://colab.research.google.com/notebooks/data_table.ipynb>data table notebook</a>'\n",
              "            + ' to learn more about interactive tables.';\n",
              "          element.innerHTML = '';\n",
              "          dataTable['output_type'] = 'display_data';\n",
              "          await google.colab.output.renderOutput(dataTable, element);\n",
              "          const docLink = document.createElement('div');\n",
              "          docLink.innerHTML = docLinkHtml;\n",
              "          element.appendChild(docLink);\n",
              "        }\n",
              "      </script>\n",
              "    </div>\n",
              "  </div>\n",
              "  "
            ]
          },
          "metadata": {},
          "execution_count": 174
        }
      ],
      "source": [
        "df.sample(2)"
      ]
    },
    {
      "cell_type": "code",
      "execution_count": 176,
      "metadata": {
        "id": "RvkW8MbYNiUh"
      },
      "outputs": [],
      "source": [
        "#klib.missingval_plot(df)"
      ]
    },
    {
      "cell_type": "markdown",
      "metadata": {
        "id": "uYINZF6rf9Fu"
      },
      "source": [
        "# DATA QUALITY FUNCTION"
      ]
    },
    {
      "cell_type": "code",
      "execution_count": 177,
      "metadata": {
        "id": "FSEpWRITaE4e"
      },
      "outputs": [],
      "source": [
        "def Quality_Check(df):\n",
        "  print(\"*****************************************DATA SUMMARY***********************************************\")\n",
        "  print(Data_Summary(df))\n",
        "  print(\"****************************************MISSING VALUES**********************************************\")\n",
        "  print(missing_values(df))\n",
        "  print(colored(\"Shape:\", attrs=['bold']), df.shape,'\\n', \n",
        "          colored('*'*100, 'red', attrs = ['bold']),\n",
        "          colored(\"\\nInfo:\\n\", attrs = ['bold']), sep = '')\n",
        "  print(\"***************************************DUPLICATED VALUES********************************************\")\n",
        "  print(duplicate_values(df))\n",
        "  print(colored(\"Shape:\", attrs=['bold']), df.shape,'\\n', \n",
        "          colored('*'*100, 'red', attrs = ['bold']),\n",
        "          colored(\"\\nInfo:\\n\", attrs = ['bold']), sep = '')\n",
        "  print(dc.duplicate_columns())\n",
        "  print(\"*************************************MULTICOLINEARITY CHECK*****************************************\")\n",
        "  multicolinearity_control(df)\n",
        "  print(\"*****************************************ERRONEOUS DATA*********************************************\")\n",
        "  print(ErroneousDataIdentifier(df=df).predefined_erroneous_data())\n"
      ]
    },
    {
      "cell_type": "code",
      "execution_count": 151,
      "metadata": {
        "colab": {
          "base_uri": "https://localhost:8080/"
        },
        "id": "xBeHhVFzaV9_",
        "outputId": "27f18305-f5e1-441f-8025-9fa25dc50d6b"
      },
      "outputs": [
        {
          "output_type": "stream",
          "name": "stdout",
          "text": [
            "*****************************************DATA SUMMARY***********************************************\n",
            "\u001b[1mShape:\u001b[0m(31, 9)\n",
            "\u001b[1m\u001b[31m****************************************************************************************************\u001b[0m\u001b[1m\n",
            "Info:\n",
            "\u001b[0m\n",
            "<class 'pandas.core.frame.DataFrame'>\n",
            "RangeIndex: 31 entries, 0 to 30\n",
            "Data columns (total 9 columns):\n",
            " #   Column     Non-Null Count  Dtype  \n",
            "---  ------     --------------  -----  \n",
            " 0   age        31 non-null     int64  \n",
            " 1   gender     30 non-null     object \n",
            " 2   height     30 non-null     float64\n",
            " 3   weight     29 non-null     float64\n",
            " 4   salary     31 non-null     int64  \n",
            " 5   job        29 non-null     object \n",
            " 6   sex        31 non-null     object \n",
            " 7   weight_lb  30 non-null     float64\n",
            " 8   name       29 non-null     object \n",
            "dtypes: float64(3), int64(2), object(4)\n",
            "memory usage: 2.3+ KB\n",
            "None\n",
            "\u001b[1m\u001b[31m****************************************************************************************************\u001b[0m\n",
            "\u001b[1mNumber of Uniques:\n",
            "\u001b[0mage          12\n",
            "gender        2\n",
            "height       22\n",
            "weight       16\n",
            "salary       14\n",
            "job           5\n",
            "sex           2\n",
            "weight_lb    16\n",
            "name          9\n",
            "dtype: int64\n",
            "\u001b[1m\u001b[31m****************************************************************************************************\u001b[0m\n",
            "\u001b[1mAll Columns:\u001b[0m['age', 'gender', 'height', 'weight', 'salary', 'job', 'sex', 'weight_lb', 'name']\n",
            "\u001b[1m\u001b[31m****************************************************************************************************\u001b[0m\n",
            "\u001b[1mDescriptive Statistics \n",
            "\u001b[0m         age  height  weight    salary  weight_lb\n",
            "count 31.000  30.000  29.000    31.000     30.000\n",
            "mean  41.320 183.500  70.930 15458.060    711.330\n",
            "std    7.760  13.500  11.560  3573.680    108.010\n",
            "min   23.000 145.000  44.000  9000.000    440.000\n",
            "25%   38.500 178.160  66.000 12000.000    660.000\n",
            "50%   45.000 186.360  75.000 15000.000    745.000\n",
            "75%   46.000 194.080  77.000 19000.000    770.000\n",
            "max   48.000 198.000  88.000 22500.000    880.000\n",
            "\u001b[1m\u001b[31m****************************************************************************************************\u001b[0m\n",
            "None\n",
            "****************************************MISSING VALUES**********************************************\n",
            "           Missing_Number  Missing_Percent\n",
            "weight                  2            0.065\n",
            "job                     2            0.065\n",
            "name                    2            0.065\n",
            "gender                  1            0.032\n",
            "height                  1            0.032\n",
            "weight_lb               1            0.032\n",
            "\u001b[1mShape:\u001b[0m(31, 9)\n",
            "\u001b[1m\u001b[31m****************************************************************************************************\u001b[0m\u001b[1m\n",
            "Info:\n",
            "\u001b[0m\n",
            "***************************************DUPLICATED VALUES********************************************\n",
            "There are 5 duplicated observations in the dataset.\n",
            "None\n",
            "\u001b[1mShape:\u001b[0m(31, 9)\n",
            "\u001b[1m\u001b[31m****************************************************************************************************\u001b[0m\u001b[1m\n",
            "Info:\n",
            "\u001b[0m\n",
            "INFO | No duplicate columns were found.\n",
            "None\n",
            "*************************************MULTICOLINEARITY CHECK*****************************************\n",
            "\u001b[1m\u001b[31mMulticolinearity alert in between:weight - weight_lb\u001b[0m(31, 9)\n",
            "\u001b[1m\u001b[31m****************************************************************************************************\u001b[0m\n",
            "\u001b[1m\u001b[31mMulticolinearity alert in between:weight_lb - weight\u001b[0m(31, 9)\n",
            "\u001b[1m\u001b[31m****************************************************************************************************\u001b[0m\n",
            "*****************************************ERRONEOUS DATA*********************************************\n",
            "        name\n",
            "unknown   15\n",
            "?          4\n"
          ]
        }
      ],
      "source": [
        "Quality_Check(df)"
      ]
    },
    {
      "cell_type": "markdown",
      "source": [
        "# KPI Function"
      ],
      "metadata": {
        "id": "i5rPOgQdHWdQ"
      }
    },
    {
      "cell_type": "code",
      "source": [
        "def KPI(df):\n",
        "  print(\"**********************************NUMBER OF COLUMNS AND ROWS****************************************\")\n",
        "  print(\"There are\", df.shape[0], \"rows\", df.shape[1],\"columns and\",df.shape[0]*df.shape[1],\"entries in this dataset\")\n",
        "  print()\n",
        "  print(\"****************************************MISSING VALUES**********************************************\")\n",
        "  print(\"Overall percentage of missing values is %\", missing_values(df).mean()[1]*100)\n",
        "  print(\"\")\n",
        "  print(\"***************************************DUPLICATED VALUES********************************************\")\n",
        "  print(\"There are\",df.duplicated(subset = None, keep = 'first').sum(),\"duplicated values.\",\"Overall percentage is %\", (df.duplicated(subset = None, keep = 'first').sum()/len(df))*100)\n",
        "  print(\"\")\n",
        "  print(\"*************************************MULTICOLINEARITY CHECK*****************************************\")\n",
        "  multicolinearity_control(df)\n",
        "  print(\"\")\n",
        "  print(\"******************************************ERRONEOUS DATA********************************************\")\n",
        "  ErroneousDataIdentifier(df=df).predefined_erroneous_data()\n",
        "  edi.predefined_erroneous_data()\n",
        "  print(\"Overall percentage of Eroneous Data is %\",(edi.predefined_erroneous_data().sum()[0]/(df.shape[0]*df.shape[1]))*100)\n",
        "  print()\n",
        "  print(\"***************************************OVERALL DATA QUALITY*****************************************\")\n",
        "  if (missing_values(df).mean()[1] <.05) and (df.duplicated(subset = None, keep = 'first').sum()/len(df)<.02) and len(collinear)==0 and (edi.predefined_erroneous_data().sum()[0]/(df.shape[0]*df.shape[1]))*100 <.02:\n",
        "    print('\\033[1m'+\"HIGH QUALITY DATA\")\n",
        "  else:\n",
        "    print('\\033[1m'+\"LOW QUALITY DATA\") "
      ],
      "metadata": {
        "id": "vsCZGbEr5mof"
      },
      "execution_count": 178,
      "outputs": []
    },
    {
      "cell_type": "markdown",
      "source": [
        "# KPI Assesement\n",
        "High Quality Data Criteria\n",
        "\n",
        "1.   Overall Missing Value percentage less than %5 and,\n",
        "2.   Overall Duplicated Value percentage less than %2 and,\n",
        "3.   No Multicolinearity (Correlation between columns NOT higher than %90) and,\n",
        "4.   Overall Erroneous Data percentage is less than %2.\n"
      ],
      "metadata": {
        "id": "JKltYnI3HgfH"
      }
    },
    {
      "cell_type": "code",
      "source": [
        "KPI(df)"
      ],
      "metadata": {
        "colab": {
          "base_uri": "https://localhost:8080/"
        },
        "id": "WQXaGkYm6E2a",
        "outputId": "ec7e80de-0e56-4f7e-a538-3e2620047866"
      },
      "execution_count": 179,
      "outputs": [
        {
          "output_type": "stream",
          "name": "stdout",
          "text": [
            "**********************************NUMBER OF COLUMNS AND ROWS****************************************\n",
            "There are 31 rows 9 columns and 279 entries in this dataset\n",
            "\n",
            "****************************************MISSING VALUES**********************************************\n",
            "Overall percentage of missing values is % 4.838709677419354\n",
            "\n",
            "***************************************DUPLICATED VALUES********************************************\n",
            "There are 5 duplicated values. Overall percentage is % 16.129032258064516\n",
            "\n",
            "*************************************MULTICOLINEARITY CHECK*****************************************\n",
            "\u001b[1m\u001b[31mMulticolinearity alert in between:weight - weight_lb\u001b[0m(31, 9)\n",
            "\u001b[1m\u001b[31m****************************************************************************************************\u001b[0m\n",
            "\u001b[1m\u001b[31mMulticolinearity alert in between:weight_lb - weight\u001b[0m(31, 9)\n",
            "\u001b[1m\u001b[31m****************************************************************************************************\u001b[0m\n",
            "\n",
            "******************************************ERRONEOUS DATA********************************************\n",
            "Overall percentage of Eroneous Data is % 6.810035842293908\n",
            "\n",
            "***************************************OVERALL DATA QUALITY*****************************************\n",
            "\u001b[1mLOW QUALITY DATA\n"
          ]
        }
      ]
    }
  ],
  "metadata": {
    "colab": {
      "collapsed_sections": [],
      "name": "Quality_Inspector_24.08.ipynb",
      "provenance": []
    },
    "kernelspec": {
      "display_name": "Python 3",
      "name": "python3"
    },
    "language_info": {
      "name": "python"
    }
  },
  "nbformat": 4,
  "nbformat_minor": 0
}