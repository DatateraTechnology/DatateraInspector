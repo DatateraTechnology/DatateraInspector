{
  "cells": [
    {
      "cell_type": "markdown",
      "metadata": {
        "id": "sM59X-o79RgC"
      },
      "source": [
        "![datatera.jpg](data:image/jpeg;base64,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)\n"
      ]
    },
    {
      "cell_type": "markdown",
      "source": [
        "# **SENSITIVE DATA INDICATOR**"
      ],
      "metadata": {
        "id": "dMAoQzn2Nzu0"
      }
    },
    {
      "cell_type": "markdown",
      "source": [
        "# This notebook aims to capture Sensitive Data (Name, email address, password, phone number, date of birth etc) for a given text (sentence) or Dataset. This notebook includes 2 different models. \n",
        "**First Model** uses Convolutional Neural Networks (CNN), this model is trained with Sensitive and NonSensitive Datasets. Output gives the probability of sensitivity for a given sentence. This model is best for a text(sentence like) data.\n",
        "\n",
        "**Second Model** uses Presidio Analyzer and Presidio Anonymizer. Anonymizing data is optional. Name Entity Recogntion (NER) models are pretrained models and they don't need to be trained. Entities such CREDIT_CARD, IBAN_CODE, EMAIL_ADDRESS, US_BANK_NUMBER can be detected and ananymized(optional) with this model. Output gives detection of sensitive data for chosen entities. This model can be used for text(sentence like) or Datasets.   \n"
      ],
      "metadata": {
        "id": "YxzKJJj4Nh-J"
      }
    },
    {
      "cell_type": "markdown",
      "source": [
        "## Importing libraries"
      ],
      "metadata": {
        "id": "by3cuXzkuLub"
      }
    },
    {
      "cell_type": "code",
      "execution_count": 1,
      "metadata": {
        "colab": {
          "base_uri": "https://localhost:8080/"
        },
        "id": "8FgMBeEXZfZO",
        "outputId": "06c687b9-032c-49d9-e0d8-5a6207c1c82a"
      },
      "outputs": [
        {
          "output_type": "stream",
          "name": "stdout",
          "text": [
            "Looking in indexes: https://pypi.org/simple, https://us-python.pkg.dev/colab-wheels/public/simple/\n",
            "Requirement already satisfied: tensorflow in /usr/local/lib/python3.7/dist-packages (2.9.0)\n",
            "Requirement already satisfied: termcolor>=1.1.0 in /usr/local/lib/python3.7/dist-packages (from tensorflow) (1.1.0)\n",
            "Requirement already satisfied: flatbuffers<2,>=1.12 in /usr/local/lib/python3.7/dist-packages (from tensorflow) (1.12)\n",
            "Requirement already satisfied: typing-extensions>=3.6.6 in /usr/local/lib/python3.7/dist-packages (from tensorflow) (4.1.1)\n",
            "Requirement already satisfied: h5py>=2.9.0 in /usr/local/lib/python3.7/dist-packages (from tensorflow) (3.1.0)\n",
            "Requirement already satisfied: wrapt>=1.11.0 in /usr/local/lib/python3.7/dist-packages (from tensorflow) (1.14.1)\n",
            "Requirement already satisfied: setuptools in /usr/local/lib/python3.7/dist-packages (from tensorflow) (57.4.0)\n",
            "Requirement already satisfied: tensorflow-estimator<2.10.0,>=2.9.0rc0 in /usr/local/lib/python3.7/dist-packages (from tensorflow) (2.9.0)\n",
            "Requirement already satisfied: six>=1.12.0 in /usr/local/lib/python3.7/dist-packages (from tensorflow) (1.15.0)\n",
            "Requirement already satisfied: libclang>=13.0.0 in /usr/local/lib/python3.7/dist-packages (from tensorflow) (14.0.6)\n",
            "Requirement already satisfied: grpcio<2.0,>=1.24.3 in /usr/local/lib/python3.7/dist-packages (from tensorflow) (1.47.0)\n",
            "Requirement already satisfied: opt-einsum>=2.3.2 in /usr/local/lib/python3.7/dist-packages (from tensorflow) (3.3.0)\n",
            "Requirement already satisfied: keras<2.10.0,>=2.9.0rc0 in /usr/local/lib/python3.7/dist-packages (from tensorflow) (2.9.0)\n",
            "Requirement already satisfied: numpy>=1.20 in /usr/local/lib/python3.7/dist-packages (from tensorflow) (1.21.6)\n",
            "Requirement already satisfied: keras-preprocessing>=1.1.1 in /usr/local/lib/python3.7/dist-packages (from tensorflow) (1.1.2)\n",
            "Requirement already satisfied: tensorboard<2.10,>=2.9 in /usr/local/lib/python3.7/dist-packages (from tensorflow) (2.9.0)\n",
            "Requirement already satisfied: tensorflow-io-gcs-filesystem>=0.23.1 in /usr/local/lib/python3.7/dist-packages (from tensorflow) (0.26.0)\n",
            "Requirement already satisfied: protobuf>=3.9.2 in /usr/local/lib/python3.7/dist-packages (from tensorflow) (3.20.0)\n",
            "Requirement already satisfied: absl-py>=1.0.0 in /usr/local/lib/python3.7/dist-packages (from tensorflow) (1.2.0)\n",
            "Requirement already satisfied: astunparse>=1.6.0 in /usr/local/lib/python3.7/dist-packages (from tensorflow) (1.6.3)\n",
            "Requirement already satisfied: packaging in /usr/local/lib/python3.7/dist-packages (from tensorflow) (20.9)\n",
            "Requirement already satisfied: gast<=0.4.0,>=0.2.1 in /usr/local/lib/python3.7/dist-packages (from tensorflow) (0.4.0)\n",
            "Requirement already satisfied: google-pasta>=0.1.1 in /usr/local/lib/python3.7/dist-packages (from tensorflow) (0.2.0)\n",
            "Requirement already satisfied: wheel<1.0,>=0.23.0 in /usr/local/lib/python3.7/dist-packages (from astunparse>=1.6.0->tensorflow) (0.37.1)\n",
            "Requirement already satisfied: cached-property in /usr/local/lib/python3.7/dist-packages (from h5py>=2.9.0->tensorflow) (1.5.2)\n",
            "Requirement already satisfied: google-auth<3,>=1.6.3 in /usr/local/lib/python3.7/dist-packages (from tensorboard<2.10,>=2.9->tensorflow) (1.35.0)\n",
            "Requirement already satisfied: markdown>=2.6.8 in /usr/local/lib/python3.7/dist-packages (from tensorboard<2.10,>=2.9->tensorflow) (3.4.1)\n",
            "Requirement already satisfied: tensorboard-data-server<0.7.0,>=0.6.0 in /usr/local/lib/python3.7/dist-packages (from tensorboard<2.10,>=2.9->tensorflow) (0.6.1)\n",
            "Requirement already satisfied: google-auth-oauthlib<0.5,>=0.4.1 in /usr/local/lib/python3.7/dist-packages (from tensorboard<2.10,>=2.9->tensorflow) (0.4.6)\n",
            "Requirement already satisfied: tensorboard-plugin-wit>=1.6.0 in /usr/local/lib/python3.7/dist-packages (from tensorboard<2.10,>=2.9->tensorflow) (1.8.1)\n",
            "Requirement already satisfied: werkzeug>=1.0.1 in /usr/local/lib/python3.7/dist-packages (from tensorboard<2.10,>=2.9->tensorflow) (1.0.1)\n",
            "Requirement already satisfied: requests<3,>=2.21.0 in /usr/local/lib/python3.7/dist-packages (from tensorboard<2.10,>=2.9->tensorflow) (2.23.0)\n",
            "Requirement already satisfied: cachetools<5.0,>=2.0.0 in /usr/local/lib/python3.7/dist-packages (from google-auth<3,>=1.6.3->tensorboard<2.10,>=2.9->tensorflow) (4.2.4)\n",
            "Requirement already satisfied: pyasn1-modules>=0.2.1 in /usr/local/lib/python3.7/dist-packages (from google-auth<3,>=1.6.3->tensorboard<2.10,>=2.9->tensorflow) (0.2.8)\n",
            "Requirement already satisfied: rsa<5,>=3.1.4 in /usr/local/lib/python3.7/dist-packages (from google-auth<3,>=1.6.3->tensorboard<2.10,>=2.9->tensorflow) (4.9)\n",
            "Requirement already satisfied: requests-oauthlib>=0.7.0 in /usr/local/lib/python3.7/dist-packages (from google-auth-oauthlib<0.5,>=0.4.1->tensorboard<2.10,>=2.9->tensorflow) (1.3.1)\n",
            "Requirement already satisfied: importlib-metadata>=4.4 in /usr/local/lib/python3.7/dist-packages (from markdown>=2.6.8->tensorboard<2.10,>=2.9->tensorflow) (4.12.0)\n",
            "Requirement already satisfied: zipp>=0.5 in /usr/local/lib/python3.7/dist-packages (from importlib-metadata>=4.4->markdown>=2.6.8->tensorboard<2.10,>=2.9->tensorflow) (3.8.1)\n",
            "Requirement already satisfied: pyasn1<0.5.0,>=0.4.6 in /usr/local/lib/python3.7/dist-packages (from pyasn1-modules>=0.2.1->google-auth<3,>=1.6.3->tensorboard<2.10,>=2.9->tensorflow) (0.4.8)\n",
            "Requirement already satisfied: urllib3!=1.25.0,!=1.25.1,<1.26,>=1.21.1 in /usr/local/lib/python3.7/dist-packages (from requests<3,>=2.21.0->tensorboard<2.10,>=2.9->tensorflow) (1.24.3)\n",
            "Requirement already satisfied: idna<3,>=2.5 in /usr/local/lib/python3.7/dist-packages (from requests<3,>=2.21.0->tensorboard<2.10,>=2.9->tensorflow) (2.10)\n",
            "Requirement already satisfied: chardet<4,>=3.0.2 in /usr/local/lib/python3.7/dist-packages (from requests<3,>=2.21.0->tensorboard<2.10,>=2.9->tensorflow) (3.0.4)\n",
            "Requirement already satisfied: certifi>=2017.4.17 in /usr/local/lib/python3.7/dist-packages (from requests<3,>=2.21.0->tensorboard<2.10,>=2.9->tensorflow) (2022.6.15)\n",
            "Requirement already satisfied: oauthlib>=3.0.0 in /usr/local/lib/python3.7/dist-packages (from requests-oauthlib>=0.7.0->google-auth-oauthlib<0.5,>=0.4.1->tensorboard<2.10,>=2.9->tensorflow) (3.2.0)\n",
            "Requirement already satisfied: pyparsing>=2.0.2 in /usr/local/lib/python3.7/dist-packages (from packaging->tensorflow) (3.0.9)\n"
          ]
        }
      ],
      "source": [
        "pip install tensorflow\n"
      ]
    },
    {
      "cell_type": "code",
      "execution_count": 2,
      "metadata": {
        "id": "TzV8zbIvZfZQ"
      },
      "outputs": [],
      "source": [
        "import google.protobuf"
      ]
    },
    {
      "cell_type": "code",
      "execution_count": 3,
      "metadata": {
        "id": "leaIgZqWI9HX"
      },
      "outputs": [],
      "source": [
        "# Importing the necessary libraries\n",
        "import pandas as pd\n",
        "import tensorflow as tf\n"
      ]
    },
    {
      "cell_type": "code",
      "execution_count": 4,
      "metadata": {
        "id": "YC92Cms3ZfZT"
      },
      "outputs": [],
      "source": [
        "import json\n",
        "import os\n",
        "import random"
      ]
    },
    {
      "cell_type": "code",
      "execution_count": 5,
      "metadata": {
        "id": "Y5jj6pLRZfZW"
      },
      "outputs": [],
      "source": [
        "from tensorflow.keras.preprocessing.text import Tokenizer\n",
        "from tensorflow.keras.preprocessing.sequence import pad_sequences"
      ]
    },
    {
      "cell_type": "markdown",
      "metadata": {
        "id": "7i3YvPoe9ZaT"
      },
      "source": [
        "## Preprocessing the dataset"
      ]
    },
    {
      "cell_type": "code",
      "execution_count": 6,
      "metadata": {
        "id": "Yt7FuSULZfZY"
      },
      "outputs": [],
      "source": [
        "sensitive_datafile = \"SensitiveDataset.json\"\n",
        "nonsensitive_datafile = \"NonSensitiveDataset.json\""
      ]
    },
    {
      "cell_type": "code",
      "execution_count": 7,
      "metadata": {
        "colab": {
          "base_uri": "https://localhost:8080/",
          "height": 36
        },
        "id": "CJG1_ohVZfZZ",
        "outputId": "85196aff-2008-480a-969f-5de4f5e78047"
      },
      "outputs": [
        {
          "output_type": "execute_result",
          "data": {
            "text/plain": [
              "'SensitiveDataset.json'"
            ],
            "application/vnd.google.colaboratory.intrinsic+json": {
              "type": "string"
            }
          },
          "metadata": {},
          "execution_count": 7
        }
      ],
      "source": [
        "sensitive_datafile"
      ]
    },
    {
      "cell_type": "code",
      "execution_count": 8,
      "metadata": {
        "id": "h_o7FrN_Jgr1"
      },
      "outputs": [],
      "source": [
        "# Necessary Variables\n",
        "vocab_size = 3000\n",
        "embedding_dim = 32\n",
        "max_length = 30\n",
        "truncation_type='post'\n",
        "padding_type='post'\n",
        "oov_tok = \"<OOV>\"\n",
        "training_size = 20000"
      ]
    },
    {
      "cell_type": "code",
      "execution_count": 9,
      "metadata": {
        "colab": {
          "base_uri": "https://localhost:8080/"
        },
        "id": "vIUEAZOfJyy-",
        "outputId": "9c215809-2032-4e03-b8d0-088be03134f9"
      },
      "outputs": [
        {
          "output_type": "stream",
          "name": "stdout",
          "text": [
            "Dataset Size:  31576\n",
            "Training Dataset Size:  20000\n",
            "Sample Training Data: username:saumitra, password:critter, email:saumitra@mail.com, phone no:6528083904\n",
            "Validation Dataset Size:  11576\n",
            "Sample Validation Data: In 1983, Mason Storm, Los Angeles police detective, investigates mob meeting takes place pier. He records shadowy figure assures mob can rely political support. Storm spotted, escapes. Unaware monitored corrupt cops, Mason informs partner friend Lt. O'Malley evidence corruption. While goes shopping, store robbed, one robbers shoots clerk. Mason stops goes home, intent celebrating wife, Felicia.\n",
            "Mason hides videotape house. When goes upstairs, hit squad composed corrupt policemen, including Jack Axel Max Quentero, break proceed murder Mason's wife shoot him. Mason's young son, Sonny, hides danger passes. The corrupt policemen frame Mason, making look like murder-suicide. At time, assassins kill Storm's partner. At hospital, Mason first pronounced dead, discovered alive, although unconscious. To prevent assassins finishing job, Lieutenant O'Malley tells medics keep Mason's status secret.\n",
            "Seven years later, Mason wakes coma. Andy, one nurses, makes phone call, intercepted corrupt police officers. They send Axel finish job kill nurses Mason might talked. Mason realizes still danger, muscles atrophied can barely use arms. He staggers elevator, Andy sees colleagues killed, helps Mason escape.\n",
            "Needing time recuperate, Andy brings Mason friend's house, Mason uses knowledge acupuncture, moxibustion meditation techniques recover strength. While training, Mason hears commercial Senator Vernon Trent recognizes voice pier. Mason contacts O'Malley, supplies weapons tells son still alive—O'Malley adopted Mason's son sent private school danger. After O'Malley leaves, Senator Trent's men find house attempt kill Andy Mason, Mason gets out.\n",
            "Posing real estate agent, Mason recovers hidden videotape old house. He meets O'Malley train station, O'Malley brings Mason's now-teenage son. They not see other, Mason arrives, O'Malley already dead, shot Max giving tape Andy safe-keeping provided distraction Sonny get away. When Mason arrives, sees son running away Quentero Nolan, another corrupt cop working Trent. Mason catches men, subdues Nolan breaking leg throwing trash bin fights Quentero. Mason beats Quentero recognizes one men took part assault Mason's home murder wife. Mason proceeds snap Quentero's neck, killing saving son. Mason decides go Senator Trent home.\n",
            "At Senator's mansion, Mason sneaks manages eliminate Senator's men one one. Mason fights Axel billiard room avenges Felicia jamming piece pool stick Axel's neck, killing him. Next, Mason leaves death taunt Capt. Hulland, another corrupt cop betrayed Storm Trent, stalks Hulland house cornering corrupt captain near fireplace. Mason strangles Hulland necktie, killing him. Mason finally confronts Senator Trent holds gunpoint police storm mansion. However, reveal already seen film knew Mason set up, arrest Trent instead. Mason reunited Andy son walks off image videotape played news, showing Trent coming shadows briefly, wondering taping him.\n",
            "Originally, movie ended Mason actually killing Trent, time later Mason, Andy Sonny attending funeral O'Malley. The theatrical trailer shows parts original ending.\n"
          ]
        }
      ],
      "source": [
        "dataList = []\n",
        "sentences = []\n",
        "labels = []\n",
        "# Stopwords should be removed or excluded from the given text so that more \n",
        "# focus can be given to those words which define the meaning of the text.\n",
        "stopwords = [ \"a\", \"about\", \"above\", \"after\", \"again\", \"against\", \"all\", \"am\", \"an\", \"and\",\n",
        "             \"any\", \"are\", \"as\", \"at\", \"be\", \"because\", \"been\", \"before\", \"being\", \"below\",\n",
        "             \"between\", \"both\", \"but\", \"by\", \"could\", \"did\", \"do\", \"does\", \"doing\", \"down\",\n",
        "             \"during\", \"each\", \"few\", \"for\", \"from\", \"further\", \"had\", \"has\", \"have\", \"having\",\n",
        "             \"he\", \"he'd\", \"he'll\", \"he's\", \"her\", \"here\", \"here's\", \"hers\", \"herself\", \"him\", \"himself\",\n",
        "             \"his\", \"how\", \"how's\", \"i\", \"i'd\", \"i'll\", \"i'm\", \"i've\", \"if\", \"in\", \"into\", \"is\", \"it\",\n",
        "             \"it's\", \"its\", \"itself\", \"let's\", \"me\", \"more\", \"most\", \"my\", \"myself\", \"nor\", \"of\", \"on\",\n",
        "             \"once\", \"only\", \"or\", \"other\", \"ought\", \"our\", \"ours\", \"ourselves\", \"out\", \"over\", \"own\",\n",
        "             \"same\", \"she\", \"she'd\", \"she'll\", \"she's\", \"should\", \"so\", \"some\", \"such\", \"than\", \"that\",\n",
        "             \"that's\", \"the\", \"their\", \"theirs\", \"them\", \"themselves\", \"then\", \"there\", \"there's\", \"these\",\n",
        "             \"they\", \"they'd\", \"they'll\", \"they're\", \"they've\", \"this\", \"those\", \"through\", \"to\", \"too\",\n",
        "             \"under\", \"until\", \"up\", \"very\", \"was\", \"we\", \"we'd\", \"we'll\", \"we're\", \"we've\", \"were\", \"what\",\n",
        "             \"what's\", \"when\", \"when's\", \"where\", \"where's\", \"which\", \"while\", \"who\", \"who's\", \"whom\",\n",
        "             \"why\", \"why's\", \"with\", \"would\", \"you\", \"you'd\", \"you'll\", \"you're\", \"you've\", \"your\", \"yours\", \"yourself\", \"yourselves\" ]\n",
        "\n",
        "def loadDataset(filename):\n",
        "  with open(filename, 'r') as f:\n",
        "    datastore = json.load(f)\n",
        "  for item in datastore:\n",
        "    sentence = item['data']\n",
        "    label = item['is_sensitive']\n",
        "    for word in stopwords: #Remove stop words in sentence\n",
        "      token = \" \" + word + \" \"\n",
        "      sentence = sentence.replace(token, \" \")\n",
        "    dataList.append([sentence, label])\n",
        "\n",
        "# Loading both sensitive and non-sensitive dataset\n",
        "loadDataset(sensitive_datafile)\n",
        "loadDataset(nonsensitive_datafile)\n",
        "\n",
        "# Shuffling the dataset randomly\n",
        "random.shuffle(dataList)\n",
        "\n",
        "# Dataset size: 31500 (approx)\n",
        "print(\"Dataset Size: \", len(dataList))\n",
        "\n",
        "# Dataset has both sentences and labels\n",
        "for item in dataList:\n",
        "  sentences.append(item[0])\n",
        "  labels.append(item[1])\n",
        "\n",
        "# Splitting up the total dataset\n",
        "# Training size = 20000\n",
        "# Validation size = 11500 (approx)\n",
        "training_sentences = sentences[0:training_size]\n",
        "validation_sentences = sentences[training_size:]\n",
        "training_labels = labels[0:training_size]\n",
        "validation_labels = labels[training_size:]\n",
        "\n",
        "print(\"Training Dataset Size: \", len(training_sentences))\n",
        "print(\"Sample Training Data:\", training_sentences[1])\n",
        "print(\"Validation Dataset Size: \", len(validation_sentences))\n",
        "print(\"Sample Validation Data:\", validation_sentences[1])"
      ]
    },
    {
      "cell_type": "code",
      "source": [
        "sen=pd.read_json(sensitive_datafile)\n",
        "sen.head()"
      ],
      "metadata": {
        "id": "5m6rBYtfKcSb",
        "colab": {
          "base_uri": "https://localhost:8080/",
          "height": 206
        },
        "outputId": "8da0f57d-f67d-4ecf-fa7f-292182d25277"
      },
      "execution_count": 10,
      "outputs": [
        {
          "output_type": "execute_result",
          "data": {
            "text/plain": [
              "   is_sensitive                                               data\n",
              "0             1  username:aaliyah, password:123456, email:aaliy...\n",
              "1             1  username:aaren, password:12345, email:aaren@ya...\n",
              "2             1  username:aarika, password:123456789, email:aar...\n",
              "3             1  username:aaron, password:iloveyou, email:aaron...\n",
              "4             1  username:aartjan, password:princess, email:aar..."
            ],
            "text/html": [
              "\n",
              "  <div id=\"df-21dd5139-ba6c-4995-9e63-3a254bc99404\">\n",
              "    <div class=\"colab-df-container\">\n",
              "      <div>\n",
              "<style scoped>\n",
              "    .dataframe tbody tr th:only-of-type {\n",
              "        vertical-align: middle;\n",
              "    }\n",
              "\n",
              "    .dataframe tbody tr th {\n",
              "        vertical-align: top;\n",
              "    }\n",
              "\n",
              "    .dataframe thead th {\n",
              "        text-align: right;\n",
              "    }\n",
              "</style>\n",
              "<table border=\"1\" class=\"dataframe\">\n",
              "  <thead>\n",
              "    <tr style=\"text-align: right;\">\n",
              "      <th></th>\n",
              "      <th>is_sensitive</th>\n",
              "      <th>data</th>\n",
              "    </tr>\n",
              "  </thead>\n",
              "  <tbody>\n",
              "    <tr>\n",
              "      <th>0</th>\n",
              "      <td>1</td>\n",
              "      <td>username:aaliyah, password:123456, email:aaliy...</td>\n",
              "    </tr>\n",
              "    <tr>\n",
              "      <th>1</th>\n",
              "      <td>1</td>\n",
              "      <td>username:aaren, password:12345, email:aaren@ya...</td>\n",
              "    </tr>\n",
              "    <tr>\n",
              "      <th>2</th>\n",
              "      <td>1</td>\n",
              "      <td>username:aarika, password:123456789, email:aar...</td>\n",
              "    </tr>\n",
              "    <tr>\n",
              "      <th>3</th>\n",
              "      <td>1</td>\n",
              "      <td>username:aaron, password:iloveyou, email:aaron...</td>\n",
              "    </tr>\n",
              "    <tr>\n",
              "      <th>4</th>\n",
              "      <td>1</td>\n",
              "      <td>username:aartjan, password:princess, email:aar...</td>\n",
              "    </tr>\n",
              "  </tbody>\n",
              "</table>\n",
              "</div>\n",
              "      <button class=\"colab-df-convert\" onclick=\"convertToInteractive('df-21dd5139-ba6c-4995-9e63-3a254bc99404')\"\n",
              "              title=\"Convert this dataframe to an interactive table.\"\n",
              "              style=\"display:none;\">\n",
              "        \n",
              "  <svg xmlns=\"http://www.w3.org/2000/svg\" height=\"24px\"viewBox=\"0 0 24 24\"\n",
              "       width=\"24px\">\n",
              "    <path d=\"M0 0h24v24H0V0z\" fill=\"none\"/>\n",
              "    <path d=\"M18.56 5.44l.94 2.06.94-2.06 2.06-.94-2.06-.94-.94-2.06-.94 2.06-2.06.94zm-11 1L8.5 8.5l.94-2.06 2.06-.94-2.06-.94L8.5 2.5l-.94 2.06-2.06.94zm10 10l.94 2.06.94-2.06 2.06-.94-2.06-.94-.94-2.06-.94 2.06-2.06.94z\"/><path d=\"M17.41 7.96l-1.37-1.37c-.4-.4-.92-.59-1.43-.59-.52 0-1.04.2-1.43.59L10.3 9.45l-7.72 7.72c-.78.78-.78 2.05 0 2.83L4 21.41c.39.39.9.59 1.41.59.51 0 1.02-.2 1.41-.59l7.78-7.78 2.81-2.81c.8-.78.8-2.07 0-2.86zM5.41 20L4 18.59l7.72-7.72 1.47 1.35L5.41 20z\"/>\n",
              "  </svg>\n",
              "      </button>\n",
              "      \n",
              "  <style>\n",
              "    .colab-df-container {\n",
              "      display:flex;\n",
              "      flex-wrap:wrap;\n",
              "      gap: 12px;\n",
              "    }\n",
              "\n",
              "    .colab-df-convert {\n",
              "      background-color: #E8F0FE;\n",
              "      border: none;\n",
              "      border-radius: 50%;\n",
              "      cursor: pointer;\n",
              "      display: none;\n",
              "      fill: #1967D2;\n",
              "      height: 32px;\n",
              "      padding: 0 0 0 0;\n",
              "      width: 32px;\n",
              "    }\n",
              "\n",
              "    .colab-df-convert:hover {\n",
              "      background-color: #E2EBFA;\n",
              "      box-shadow: 0px 1px 2px rgba(60, 64, 67, 0.3), 0px 1px 3px 1px rgba(60, 64, 67, 0.15);\n",
              "      fill: #174EA6;\n",
              "    }\n",
              "\n",
              "    [theme=dark] .colab-df-convert {\n",
              "      background-color: #3B4455;\n",
              "      fill: #D2E3FC;\n",
              "    }\n",
              "\n",
              "    [theme=dark] .colab-df-convert:hover {\n",
              "      background-color: #434B5C;\n",
              "      box-shadow: 0px 1px 3px 1px rgba(0, 0, 0, 0.15);\n",
              "      filter: drop-shadow(0px 1px 2px rgba(0, 0, 0, 0.3));\n",
              "      fill: #FFFFFF;\n",
              "    }\n",
              "  </style>\n",
              "\n",
              "      <script>\n",
              "        const buttonEl =\n",
              "          document.querySelector('#df-21dd5139-ba6c-4995-9e63-3a254bc99404 button.colab-df-convert');\n",
              "        buttonEl.style.display =\n",
              "          google.colab.kernel.accessAllowed ? 'block' : 'none';\n",
              "\n",
              "        async function convertToInteractive(key) {\n",
              "          const element = document.querySelector('#df-21dd5139-ba6c-4995-9e63-3a254bc99404');\n",
              "          const dataTable =\n",
              "            await google.colab.kernel.invokeFunction('convertToInteractive',\n",
              "                                                     [key], {});\n",
              "          if (!dataTable) return;\n",
              "\n",
              "          const docLinkHtml = 'Like what you see? Visit the ' +\n",
              "            '<a target=\"_blank\" href=https://colab.research.google.com/notebooks/data_table.ipynb>data table notebook</a>'\n",
              "            + ' to learn more about interactive tables.';\n",
              "          element.innerHTML = '';\n",
              "          dataTable['output_type'] = 'display_data';\n",
              "          await google.colab.output.renderOutput(dataTable, element);\n",
              "          const docLink = document.createElement('div');\n",
              "          docLink.innerHTML = docLinkHtml;\n",
              "          element.appendChild(docLink);\n",
              "        }\n",
              "      </script>\n",
              "    </div>\n",
              "  </div>\n",
              "  "
            ]
          },
          "metadata": {},
          "execution_count": 10
        }
      ]
    },
    {
      "cell_type": "code",
      "source": [
        "nonsen=pd.read_json(nonsensitive_datafile)\n",
        "nonsen.head()"
      ],
      "metadata": {
        "id": "ccgkOyJ8LDAa",
        "colab": {
          "base_uri": "https://localhost:8080/",
          "height": 206
        },
        "outputId": "40101ba4-72ce-4bb5-9b4f-c4df08f0f97d"
      },
      "execution_count": 11,
      "outputs": [
        {
          "output_type": "execute_result",
          "data": {
            "text/plain": [
              "   is_sensitive                                               data\n",
              "0             0  A bartender is working at a saloon, serving dr...\n",
              "1             0  The moon, painted with a smiling face hangs ov...\n",
              "2             0  The film, just over a minute long, is composed...\n",
              "3             0  Lasting just 61 seconds and consisting of two ...\n",
              "4             0  The earliest known adaptation of the classic f..."
            ],
            "text/html": [
              "\n",
              "  <div id=\"df-78e1fea5-fb4b-4daf-8596-f54c38e3ad00\">\n",
              "    <div class=\"colab-df-container\">\n",
              "      <div>\n",
              "<style scoped>\n",
              "    .dataframe tbody tr th:only-of-type {\n",
              "        vertical-align: middle;\n",
              "    }\n",
              "\n",
              "    .dataframe tbody tr th {\n",
              "        vertical-align: top;\n",
              "    }\n",
              "\n",
              "    .dataframe thead th {\n",
              "        text-align: right;\n",
              "    }\n",
              "</style>\n",
              "<table border=\"1\" class=\"dataframe\">\n",
              "  <thead>\n",
              "    <tr style=\"text-align: right;\">\n",
              "      <th></th>\n",
              "      <th>is_sensitive</th>\n",
              "      <th>data</th>\n",
              "    </tr>\n",
              "  </thead>\n",
              "  <tbody>\n",
              "    <tr>\n",
              "      <th>0</th>\n",
              "      <td>0</td>\n",
              "      <td>A bartender is working at a saloon, serving dr...</td>\n",
              "    </tr>\n",
              "    <tr>\n",
              "      <th>1</th>\n",
              "      <td>0</td>\n",
              "      <td>The moon, painted with a smiling face hangs ov...</td>\n",
              "    </tr>\n",
              "    <tr>\n",
              "      <th>2</th>\n",
              "      <td>0</td>\n",
              "      <td>The film, just over a minute long, is composed...</td>\n",
              "    </tr>\n",
              "    <tr>\n",
              "      <th>3</th>\n",
              "      <td>0</td>\n",
              "      <td>Lasting just 61 seconds and consisting of two ...</td>\n",
              "    </tr>\n",
              "    <tr>\n",
              "      <th>4</th>\n",
              "      <td>0</td>\n",
              "      <td>The earliest known adaptation of the classic f...</td>\n",
              "    </tr>\n",
              "  </tbody>\n",
              "</table>\n",
              "</div>\n",
              "      <button class=\"colab-df-convert\" onclick=\"convertToInteractive('df-78e1fea5-fb4b-4daf-8596-f54c38e3ad00')\"\n",
              "              title=\"Convert this dataframe to an interactive table.\"\n",
              "              style=\"display:none;\">\n",
              "        \n",
              "  <svg xmlns=\"http://www.w3.org/2000/svg\" height=\"24px\"viewBox=\"0 0 24 24\"\n",
              "       width=\"24px\">\n",
              "    <path d=\"M0 0h24v24H0V0z\" fill=\"none\"/>\n",
              "    <path d=\"M18.56 5.44l.94 2.06.94-2.06 2.06-.94-2.06-.94-.94-2.06-.94 2.06-2.06.94zm-11 1L8.5 8.5l.94-2.06 2.06-.94-2.06-.94L8.5 2.5l-.94 2.06-2.06.94zm10 10l.94 2.06.94-2.06 2.06-.94-2.06-.94-.94-2.06-.94 2.06-2.06.94z\"/><path d=\"M17.41 7.96l-1.37-1.37c-.4-.4-.92-.59-1.43-.59-.52 0-1.04.2-1.43.59L10.3 9.45l-7.72 7.72c-.78.78-.78 2.05 0 2.83L4 21.41c.39.39.9.59 1.41.59.51 0 1.02-.2 1.41-.59l7.78-7.78 2.81-2.81c.8-.78.8-2.07 0-2.86zM5.41 20L4 18.59l7.72-7.72 1.47 1.35L5.41 20z\"/>\n",
              "  </svg>\n",
              "      </button>\n",
              "      \n",
              "  <style>\n",
              "    .colab-df-container {\n",
              "      display:flex;\n",
              "      flex-wrap:wrap;\n",
              "      gap: 12px;\n",
              "    }\n",
              "\n",
              "    .colab-df-convert {\n",
              "      background-color: #E8F0FE;\n",
              "      border: none;\n",
              "      border-radius: 50%;\n",
              "      cursor: pointer;\n",
              "      display: none;\n",
              "      fill: #1967D2;\n",
              "      height: 32px;\n",
              "      padding: 0 0 0 0;\n",
              "      width: 32px;\n",
              "    }\n",
              "\n",
              "    .colab-df-convert:hover {\n",
              "      background-color: #E2EBFA;\n",
              "      box-shadow: 0px 1px 2px rgba(60, 64, 67, 0.3), 0px 1px 3px 1px rgba(60, 64, 67, 0.15);\n",
              "      fill: #174EA6;\n",
              "    }\n",
              "\n",
              "    [theme=dark] .colab-df-convert {\n",
              "      background-color: #3B4455;\n",
              "      fill: #D2E3FC;\n",
              "    }\n",
              "\n",
              "    [theme=dark] .colab-df-convert:hover {\n",
              "      background-color: #434B5C;\n",
              "      box-shadow: 0px 1px 3px 1px rgba(0, 0, 0, 0.15);\n",
              "      filter: drop-shadow(0px 1px 2px rgba(0, 0, 0, 0.3));\n",
              "      fill: #FFFFFF;\n",
              "    }\n",
              "  </style>\n",
              "\n",
              "      <script>\n",
              "        const buttonEl =\n",
              "          document.querySelector('#df-78e1fea5-fb4b-4daf-8596-f54c38e3ad00 button.colab-df-convert');\n",
              "        buttonEl.style.display =\n",
              "          google.colab.kernel.accessAllowed ? 'block' : 'none';\n",
              "\n",
              "        async function convertToInteractive(key) {\n",
              "          const element = document.querySelector('#df-78e1fea5-fb4b-4daf-8596-f54c38e3ad00');\n",
              "          const dataTable =\n",
              "            await google.colab.kernel.invokeFunction('convertToInteractive',\n",
              "                                                     [key], {});\n",
              "          if (!dataTable) return;\n",
              "\n",
              "          const docLinkHtml = 'Like what you see? Visit the ' +\n",
              "            '<a target=\"_blank\" href=https://colab.research.google.com/notebooks/data_table.ipynb>data table notebook</a>'\n",
              "            + ' to learn more about interactive tables.';\n",
              "          element.innerHTML = '';\n",
              "          dataTable['output_type'] = 'display_data';\n",
              "          await google.colab.output.renderOutput(dataTable, element);\n",
              "          const docLink = document.createElement('div');\n",
              "          docLink.innerHTML = docLinkHtml;\n",
              "          element.appendChild(docLink);\n",
              "        }\n",
              "      </script>\n",
              "    </div>\n",
              "  </div>\n",
              "  "
            ]
          },
          "metadata": {},
          "execution_count": 11
        }
      ]
    },
    {
      "cell_type": "code",
      "execution_count": 12,
      "metadata": {
        "id": "Kt01OaiEMbQ9",
        "colab": {
          "base_uri": "https://localhost:8080/"
        },
        "outputId": "e4421cac-930a-4643-dc64-75f508e843a1"
      },
      "outputs": [
        {
          "output_type": "stream",
          "name": "stdout",
          "text": [
            "Size of word index: 103154\n",
            "Saving the word index as JSON\n"
          ]
        }
      ],
      "source": [
        "# Tokenizer takes the num_words (here vocab_size = 3000) maximum occuring unique words from the dataset.\n",
        "# Anything out of these words will be treated as Out of Vocabulary(<oov>)\n",
        "# It strips the punctutations and removes upper-case letters.\n",
        "tokenizer = Tokenizer(num_words=vocab_size, oov_token=oov_tok)\n",
        "\n",
        "# Apply the tokenizer on training sentences and generate the word index\n",
        "# Eg: word_index[\"the\"] = 1; word_index[\"cat\"] = 2; etc.\n",
        "tokenizer.fit_on_texts(training_sentences)\n",
        "\n",
        "# Save the word index (Used for deploying in web application)\n",
        "word_index = tokenizer.word_index\n",
        "print(\"Size of word index:\", len(word_index))\n",
        "\n",
        "with open(\"word_index.json\", \"w\") as outfile:  \n",
        "    json.dump(word_index, outfile)\n",
        "    print(\"Saving the word index as JSON\")\n",
        "\n",
        "# Transforms each word in sentences to a sequence of integers based on the word_index\n",
        "training_sequences = tokenizer.texts_to_sequences(training_sentences)\n",
        "# To feed the text into neural network - sentences must be of the same length. Hence we'll be using padding.\n",
        "# If the sentences are smaller than the maxlen, then we'll pad (Here, we are using post padding)\n",
        "# If the sentences are larger than the maxlen, then we'll truncate (Here, we are using post truncation)\n",
        "training_padded = pad_sequences(training_sequences, maxlen=max_length, padding=padding_type, truncating=truncation_type)\n",
        "\n",
        "# Apply the same for validation data\n",
        "validation_sequences = tokenizer.texts_to_sequences(validation_sentences)\n",
        "validation_padded = pad_sequences(validation_sequences, maxlen=max_length, padding=padding_type, truncating=truncation_type)"
      ]
    },
    {
      "cell_type": "code",
      "execution_count": 13,
      "metadata": {
        "id": "SSHwIoCLPKPq"
      },
      "outputs": [],
      "source": [
        "# Convert to Numpy arrays, so as to get it to work with TensorFlow 2.x\n",
        "import numpy as np\n",
        "training_padded = np.array(training_padded)\n",
        "training_labels = np.array(training_labels)\n",
        "validation_padded = np.array(validation_padded)\n",
        "validation_labels = np.array(validation_labels)"
      ]
    },
    {
      "cell_type": "markdown",
      "metadata": {
        "id": "9OLtjmJw9ehH"
      },
      "source": [
        "## Model"
      ]
    },
    {
      "cell_type": "code",
      "execution_count": 14,
      "metadata": {
        "id": "p5ADD9CuNFWB",
        "colab": {
          "base_uri": "https://localhost:8080/"
        },
        "outputId": "27b6696f-bb49-4c3e-bd20-4b21a6d96e20"
      },
      "outputs": [
        {
          "output_type": "stream",
          "name": "stdout",
          "text": [
            "Model: \"sequential\"\n",
            "_________________________________________________________________\n",
            " Layer (type)                Output Shape              Param #   \n",
            "=================================================================\n",
            " embedding (Embedding)       (None, 30, 32)            96000     \n",
            "                                                                 \n",
            " conv1d (Conv1D)             (None, 26, 64)            10304     \n",
            "                                                                 \n",
            " global_average_pooling1d (G  (None, 64)               0         \n",
            " lobalAveragePooling1D)                                          \n",
            "                                                                 \n",
            " dense (Dense)               (None, 24)                1560      \n",
            "                                                                 \n",
            " dense_1 (Dense)             (None, 1)                 25        \n",
            "                                                                 \n",
            "=================================================================\n",
            "Total params: 107,889\n",
            "Trainable params: 107,889\n",
            "Non-trainable params: 0\n",
            "_________________________________________________________________\n"
          ]
        }
      ],
      "source": [
        "# Callbacks to cancel training after reaching a desired accuracy\n",
        "# This is done to avoid overfitting\n",
        "DESIRED_ACCURACY = 0.999\n",
        "class myCallback(tf.keras.callbacks.Callback):\n",
        "  def on_epoch_end(self, epoch, logs={}):\n",
        "    if logs.get('accuracy') > DESIRED_ACCURACY:\n",
        "      print(\"Reached 99.9% accuracy so cancelling training!\")\n",
        "      self.model.stop_training = True\n",
        "\n",
        "callbacks = myCallback()\n",
        "\n",
        "# Sequential - defines a SEQUENCE of layers in the neural network.\n",
        "model = tf.keras.Sequential([\n",
        "    # Embedding - Turns positive integers (indexes) into dense vectors of fixed size (here embedding_dim = 32).\n",
        "    tf.keras.layers.Embedding(vocab_size, embedding_dim, input_length=max_length),\n",
        "    # 1D convolution layer - filter size = 128, convolution window = 5, activation fn = ReLU\n",
        "    tf.keras.layers.Conv1D(64, 5, activation='relu'),\n",
        "    # Global average pooling operation (Flattening)\n",
        "    tf.keras.layers.GlobalAveragePooling1D(),\n",
        "    # Regular densely-connected Neural Network layer with ReLU activation function.\n",
        "    tf.keras.layers.Dense(24, activation='relu'),\n",
        "    # Regular densely-connected Neural Network layer with sigmoid activation function.\n",
        "    tf.keras.layers.Dense(1, activation='sigmoid')\n",
        "])\n",
        "\n",
        "# model.compile - Configures the model for training.\n",
        "model.compile(loss='binary_crossentropy',optimizer='adam',metrics=['accuracy'])\n",
        "# Adam -  optimization algorithm used instead of the classical stochastic gradient descent procedure to update network weights.\n",
        "\n",
        "# Display the summary of the model\n",
        "model.summary()"
      ]
    },
    {
      "cell_type": "markdown",
      "metadata": {
        "id": "mb2NlD159g8k"
      },
      "source": [
        "## Training"
      ]
    },
    {
      "cell_type": "code",
      "execution_count": 15,
      "metadata": {
        "id": "7TP5ThxvNPK8",
        "colab": {
          "base_uri": "https://localhost:8080/"
        },
        "outputId": "cb224f17-f5c2-47c5-c91c-84cd8400d755"
      },
      "outputs": [
        {
          "output_type": "stream",
          "name": "stdout",
          "text": [
            "Epoch 1/2\n",
            "625/625 [==============================] - 8s 9ms/step - loss: 0.0521 - accuracy: 0.9937 - val_loss: 0.0023 - val_accuracy: 0.9992\n",
            "Epoch 2/2\n",
            "625/625 [==============================] - 6s 9ms/step - loss: 9.5601e-04 - accuracy: 0.9998 - val_loss: 8.9608e-04 - val_accuracy: 0.9998\n"
          ]
        }
      ],
      "source": [
        "num_epochs = 2\n",
        "\n",
        "# model.fit - Train the model for a fixed number of epochs\n",
        "history = model.fit(training_padded, \n",
        "                    training_labels, \n",
        "                    epochs=num_epochs, \n",
        "                    validation_data=(\n",
        "                        validation_padded, \n",
        "                        validation_labels), \n",
        "                    verbose=1)\n",
        "                    #callbacks=[callbacks])"
      ]
    },
    {
      "cell_type": "markdown",
      "metadata": {
        "id": "poN5h1SD9tiE"
      },
      "source": [
        "## Plotting Accuracy and Loss Functions"
      ]
    },
    {
      "cell_type": "code",
      "execution_count": 16,
      "metadata": {
        "id": "WCDbITWsNWlI",
        "colab": {
          "base_uri": "https://localhost:8080/",
          "height": 541
        },
        "outputId": "1dd2df15-ad14-45d6-a227-e6ceda7488f2"
      },
      "outputs": [
        {
          "output_type": "display_data",
          "data": {
            "text/plain": [
              "<Figure size 432x288 with 1 Axes>"
            ],
            "image/png": "[encoded data removed]"
          },
          "metadata": {
            "needs_background": "light"
          }
        },
        {
          "output_type": "display_data",
          "data": {
            "text/plain": [
              "<Figure size 432x288 with 1 Axes>"
            ],
            "image/png": "[encoded data removed]"
          },
          "metadata": {
            "needs_background": "light"
          }
        }
      ],
      "source": [
        "import matplotlib.pyplot as plt\n",
        "\n",
        "# Plot the accuracy and loss functions\n",
        "def plot_graphs(history, string):\n",
        "  plt.plot(history.history[string])\n",
        "  plt.plot(history.history['val_'+string])\n",
        "  plt.xlabel(\"Epochs\")\n",
        "  plt.ylabel(string)\n",
        "  plt.legend([string, 'val_'+string])\n",
        "  plt.show()\n",
        "  \n",
        "plot_graphs(history, \"accuracy\")\n",
        "plot_graphs(history, \"loss\")"
      ]
    },
    {
      "cell_type": "markdown",
      "metadata": {
        "id": "z9ymTQswYUQz"
      },
      "source": [
        "## Confusion Matrix"
      ]
    },
    {
      "cell_type": "code",
      "execution_count": 17,
      "metadata": {
        "id": "tVdCGN-tYXqX",
        "colab": {
          "base_uri": "https://localhost:8080/",
          "height": 1000
        },
        "outputId": "cb9bdc81-cf27-47d6-e237-302d36b654d1"
      },
      "outputs": [
        {
          "output_type": "stream",
          "name": "stdout",
          "text": [
            "Confusion Matrix\n",
            "362/362 [==============================] - 1s 3ms/step\n",
            "Accuracy for 2894 Test Data =  100.0\n",
            "Accuracy for 5788 Test Data =  100.0\n",
            "Accuracy for 8682 Test Data =  99.98848191660908\n",
            "Accuracy for 11576 Test Data =  99.9827228749136\n"
          ]
        },
        {
          "output_type": "display_data",
          "data": {
            "text/plain": [
              "<Figure size 720x504 with 2 Axes>"
            ],
            "image/png": "[encoded data removed]"
          },
          "metadata": {
            "needs_background": "light"
          }
        },
        {
          "output_type": "display_data",
          "data": {
            "text/plain": [
              "<Figure size 720x504 with 2 Axes>"
            ],
            "image/png": "[encoded data removed]"
          },
          "metadata": {
            "needs_background": "light"
          }
        },
        {
          "output_type": "display_data",
          "data": {
            "text/plain": [
              "<Figure size 720x504 with 2 Axes>"
            ],
            "image/png": "[encoded data removed]"
          },
          "metadata": {
            "needs_background": "light"
          }
        },
        {
          "output_type": "display_data",
          "data": {
            "text/plain": [
              "<Figure size 720x504 with 2 Axes>"
            ],
            "image/png": "[encoded data removed]"
          },
          "metadata": {
            "needs_background": "light"
          }
        }
      ],
      "source": [
        "import seaborn\n",
        "print('Confusion Matrix')\n",
        "y_predicted = model.predict(validation_padded)\n",
        "y_predicted_labels = y_predicted > 0.5\n",
        "\n",
        "size = np.size(y_predicted_labels)\n",
        "y_predicted_labels = y_predicted_labels.reshape(size, )\n",
        "\n",
        "for i in range (1, 5):\n",
        "  total = i * size // 4\n",
        "  cm = tf.math.confusion_matrix(labels=validation_labels[0:total],predictions=y_predicted_labels[0:total])\n",
        "\n",
        "  # Calculate accuracy\n",
        "  cm_np = cm.numpy()\n",
        "  conf_acc = (cm_np[0, 0] + cm_np[1, 1])/ np.sum(cm_np) * 100\n",
        "  print(\"Accuracy for\", str(total), \"Test Data = \", conf_acc)\n",
        "\n",
        "  # Plot the confusion matrix\n",
        "  plt.figure(figsize = (10,7))\n",
        "  seaborn.heatmap(cm, annot=True, fmt='d')\n",
        "  plt.title(\"Confusion Matrix for \" + str(total) + \" Test Data\")\n",
        "  plt.xlabel('Predicted')\n",
        "  plt.ylabel('Expected')"
      ]
    },
    {
      "cell_type": "markdown",
      "metadata": {
        "id": "f94fRNNo-386"
      },
      "source": [
        "## Saving the model"
      ]
    },
    {
      "cell_type": "code",
      "execution_count": 18,
      "metadata": {
        "id": "F_rBTIVTQHow",
        "colab": {
          "base_uri": "https://localhost:8080/"
        },
        "outputId": "a5b7b143-f76c-4ab0-d23f-62efe895868f"
      },
      "outputs": [
        {
          "output_type": "stream",
          "name": "stdout",
          "text": [
            "Saved the model successfully\n",
            "Already using interpreter /usr/bin/python3\n",
            "Using base prefix '/usr'\n",
            "New python executable in /content/venv/bin/python3\n",
            "Not overwriting existing python script /content/venv/bin/python (you must use /content/venv/bin/python3)\n",
            "Installing setuptools, pkg_resources, pip, wheel...done.\n",
            "Model converted to JSON successfully\n"
          ]
        }
      ],
      "source": [
        "# Save and convert the model (Used for deploying in web application)\n",
        "model.save('model/text_model.h5')\n",
        "print(\"Saved the model successfully\")\n",
        "\n",
        "!apt-get -qq install virtualenv\n",
        "!virtualenv -p python3 venv\n",
        "!source venv/bin/activate\n",
        "!pip install -q tensorflowjs\n",
        "!tensorflowjs_converter --input_format=keras /content/model/text_model.h5 /content/text_model\n",
        "print(\"Model converted to JSON successfully\")"
      ]
    },
    {
      "cell_type": "markdown",
      "metadata": {
        "id": "plgECuQc9wdt"
      },
      "source": [
        "## Sample Data (Text Sentence Data)"
      ]
    },
    {
      "cell_type": "code",
      "execution_count": 19,
      "metadata": {
        "id": "Kyfb-NtpNV7h",
        "colab": {
          "base_uri": "https://localhost:8080/"
        },
        "outputId": "e6025381-79e3-4650-acdd-90442113f674"
      },
      "outputs": [
        {
          "output_type": "stream",
          "name": "stdout",
          "text": [
            "1/1 [==============================] - 0s 22ms/step\n",
            "0.9907923\n",
            "This Data is More Likely Sensitive - His Name is John\n",
            "0.9958638\n",
            "This Data is More Likely Sensitive - Her name is Janet\n",
            "0.9979878\n",
            "This Data is More Likely Sensitive - date of birth:17-09-1972\n",
            "0.99797297\n",
            "This Data is More Likely Sensitive - passport number: 123456789\n",
            "0.996849\n",
            "This Data is More Likely Sensitive - Phone Number is 555555555\n",
            "0.99426085\n",
            "This Data is More Likely Sensitive - Credit card number 341-547-787\n",
            "0.9960148\n",
            "This Data is More Likely Sensitive - Username:John\n",
            "0.9974508\n",
            "This Data is More Likely Sensitive - Password:1345\n",
            "0.18714473\n",
            "This Data is Less Likely Sensitive - DataTera:Global Data Source for AI models\n",
            "0.901537\n",
            "This Data is More Likely Sensitive - Her Race is White\n",
            "0.992889\n",
            "This Data is More Likely Sensitive - Race:Cacuasian\n",
            "0.97486234\n",
            "This Data is More Likely Sensitive - Eye Color: Brown\n",
            "0.15687117\n",
            "This Data is Less Likely Sensitive - That was an awsome movie\n",
            "0.23424481\n",
            "This Data is Less Likely Sensitive - Her glucose level was very high\n",
            "0.0006103847\n",
            "This Data is Less Likely Sensitive - She has sent her e-mail address for the meeting\n",
            "0.9985947\n",
            "This Data is More Likely Sensitive - Her email:janet@gmail.com\n",
            "0.9949595\n",
            "This Data is More Likely Sensitive - e-mail:john@gmail.com\n",
            "0.99784416\n",
            "This Data is More Likely Sensitive - fax number:12456789\n",
            "0.09603209\n",
            "This Data is Less Likely Sensitive - Please do not share your private information\n",
            "0.98137695\n",
            "This Data is More Likely Sensitive - Credit card no 1234-1234-1234-1234\n"
          ]
        }
      ],
      "source": [
        "sentence = [\"His Name is John\",\n",
        "            \"Her name is Janet\",\n",
        "            \"date of birth:17-09-1972\",\n",
        "            \"passport number: 123456789\",\n",
        "            \"Phone Number is 555555555\",\n",
        "            \"Credit card number 341-547-787\",\n",
        "            \"Username:John\",\n",
        "            \"Password:1345\",\n",
        "            \"DataTera:Global Data Source for AI models\",\n",
        "            \"Her Race is White\",\n",
        "            \"Race:Cacuasian\",\n",
        "            \"Eye Color: Brown\",\n",
        "            \"That was an awsome movie\",\n",
        "            \"Her glucose level was very high\",\n",
        "            \"She has sent her e-mail address for the meeting\",\n",
        "            \"Her email:janet@gmail.com\",\n",
        "            \"e-mail:john@gmail.com\",\n",
        "            \"fax number:12456789\",\n",
        "            \"Please do not share your private information\",\n",
        "            \"Credit card no 1234-1234-1234-1234\"]\n",
        "sequences = tokenizer.texts_to_sequences(sentence)\n",
        "padded = pad_sequences(sequences, maxlen=max_length, padding=padding_type, truncating=truncation_type)\n",
        "predictions = model.predict(padded)\n",
        "for i in range(len(predictions)):\n",
        "  print(predictions[i][0])\n",
        "  if predictions[i][0]>0.4:\n",
        "    print(\"This Data is More Likely Sensitive - \"+ sentence[i])\n",
        "  else:\n",
        "    print(\"This Data is Less Likely Sensitive - \"+ sentence[i])"
      ]
    },
    {
      "cell_type": "markdown",
      "source": [
        "************************************************************************"
      ],
      "metadata": {
        "id": "jUh7KGTlvgPN"
      }
    },
    {
      "cell_type": "markdown",
      "source": [
        "# **# Second Model (For Datasets and text (sentence like) data)**\n",
        "\n",
        "**Advanced Sensitive Data Detection and Anonymization(Optional) by using Hugging Face Transformers**"
      ],
      "metadata": {
        "id": "oe7hTvcTi_Na"
      }
    },
    {
      "cell_type": "markdown",
      "source": [
        "Presidio (The Presidio analyzer is a Python based service for detecting Sensitive Data in text) helps to ensure sensitive data is properly managed and governed. It provides fast identification and anonymization modules for private entities in text such as credit card numbers, names, locations, social security numbers, bitcoin wallets, US phone numbers, financial data and more."
      ],
      "metadata": {
        "id": "jnGI9RItjaV8"
      }
    },
    {
      "cell_type": "markdown",
      "source": [
        "By Default Presidio is using Spacy for Sensitive Data detection and extraction. In this model are we going to replace spacy with a Hugging Face Transformer to perform detection and anonymization. Presidio supports already out of the box 24 PII entities including, CREDIT_CARD, IBAN_CODE, EMAIL_ADDRESS, US_BANK_NUMBER, US_ITIN... We are going to extend this available 24 entities with transformers to include LOCATION, PERSON & ORGANIZATION. But it is possible to use any \"entity\" extracted by the transformers model."
      ],
      "metadata": {
        "id": "lJ09lqVljbqI"
      }
    },
    {
      "cell_type": "markdown",
      "source": [
        "Importing Libraries"
      ],
      "metadata": {
        "id": "XLR92s5ev2Kf"
      }
    },
    {
      "cell_type": "code",
      "source": [
        "import warnings\n",
        "warnings.filterwarnings(\"ignore\")"
      ],
      "metadata": {
        "id": "lVAzZAx3i61e"
      },
      "execution_count": 20,
      "outputs": []
    },
    {
      "cell_type": "code",
      "source": [
        "!python -m spacy download en_core_web_lg"
      ],
      "metadata": {
        "colab": {
          "base_uri": "https://localhost:8080/"
        },
        "id": "y_YEVyyqi66C",
        "outputId": "803f14fe-2464-4c75-977b-8c2e22723c6c"
      },
      "execution_count": 21,
      "outputs": [
        {
          "output_type": "stream",
          "name": "stdout",
          "text": [
            "2022-08-12 19:55:14.268630: E tensorflow/stream_executor/cuda/cuda_driver.cc:271] failed call to cuInit: CUDA_ERROR_NO_DEVICE: no CUDA-capable device is detected\n",
            "Looking in indexes: https://pypi.org/simple, https://us-python.pkg.dev/colab-wheels/public/simple/\n",
            "Collecting en-core-web-lg==3.4.0\n",
            "  Downloading https://github.com/explosion/spacy-models/releases/download/en_core_web_lg-3.4.0/en_core_web_lg-3.4.0-py3-none-any.whl (587.7 MB)\n",
            "\u001b[K     |████████████████████████████████| 587.7 MB 8.9 kB/s \n",
            "\u001b[?25hRequirement already satisfied: spacy<3.5.0,>=3.4.0 in /usr/local/lib/python3.7/dist-packages (from en-core-web-lg==3.4.0) (3.4.1)\n",
            "Requirement already satisfied: preshed<3.1.0,>=3.0.2 in /usr/local/lib/python3.7/dist-packages (from spacy<3.5.0,>=3.4.0->en-core-web-lg==3.4.0) (3.0.6)\n",
            "Requirement already satisfied: tqdm<5.0.0,>=4.38.0 in /usr/local/lib/python3.7/dist-packages (from spacy<3.5.0,>=3.4.0->en-core-web-lg==3.4.0) (4.64.0)\n",
            "Requirement already satisfied: cymem<2.1.0,>=2.0.2 in /usr/local/lib/python3.7/dist-packages (from spacy<3.5.0,>=3.4.0->en-core-web-lg==3.4.0) (2.0.6)\n",
            "Requirement already satisfied: requests<3.0.0,>=2.13.0 in /usr/local/lib/python3.7/dist-packages (from spacy<3.5.0,>=3.4.0->en-core-web-lg==3.4.0) (2.23.0)\n",
            "Requirement already satisfied: typer<0.5.0,>=0.3.0 in /usr/local/lib/python3.7/dist-packages (from spacy<3.5.0,>=3.4.0->en-core-web-lg==3.4.0) (0.4.2)\n",
            "Requirement already satisfied: catalogue<2.1.0,>=2.0.6 in /usr/local/lib/python3.7/dist-packages (from spacy<3.5.0,>=3.4.0->en-core-web-lg==3.4.0) (2.0.8)\n",
            "Requirement already satisfied: packaging>=20.0 in /usr/local/lib/python3.7/dist-packages (from spacy<3.5.0,>=3.4.0->en-core-web-lg==3.4.0) (20.9)\n",
            "Requirement already satisfied: srsly<3.0.0,>=2.4.3 in /usr/local/lib/python3.7/dist-packages (from spacy<3.5.0,>=3.4.0->en-core-web-lg==3.4.0) (2.4.4)\n",
            "Requirement already satisfied: pydantic!=1.8,!=1.8.1,<1.10.0,>=1.7.4 in /usr/local/lib/python3.7/dist-packages (from spacy<3.5.0,>=3.4.0->en-core-web-lg==3.4.0) (1.9.1)\n",
            "Requirement already satisfied: murmurhash<1.1.0,>=0.28.0 in /usr/local/lib/python3.7/dist-packages (from spacy<3.5.0,>=3.4.0->en-core-web-lg==3.4.0) (1.0.7)\n",
            "Requirement already satisfied: jinja2 in /usr/local/lib/python3.7/dist-packages (from spacy<3.5.0,>=3.4.0->en-core-web-lg==3.4.0) (2.11.3)\n",
            "Requirement already satisfied: wasabi<1.1.0,>=0.9.1 in /usr/local/lib/python3.7/dist-packages (from spacy<3.5.0,>=3.4.0->en-core-web-lg==3.4.0) (0.10.1)\n",
            "Requirement already satisfied: pathy>=0.3.5 in /usr/local/lib/python3.7/dist-packages (from spacy<3.5.0,>=3.4.0->en-core-web-lg==3.4.0) (0.6.2)\n",
            "Requirement already satisfied: setuptools in /usr/local/lib/python3.7/dist-packages (from spacy<3.5.0,>=3.4.0->en-core-web-lg==3.4.0) (57.4.0)\n",
            "Requirement already satisfied: langcodes<4.0.0,>=3.2.0 in /usr/local/lib/python3.7/dist-packages (from spacy<3.5.0,>=3.4.0->en-core-web-lg==3.4.0) (3.3.0)\n",
            "Requirement already satisfied: thinc<8.2.0,>=8.1.0 in /usr/local/lib/python3.7/dist-packages (from spacy<3.5.0,>=3.4.0->en-core-web-lg==3.4.0) (8.1.0)\n",
            "Requirement already satisfied: spacy-legacy<3.1.0,>=3.0.9 in /usr/local/lib/python3.7/dist-packages (from spacy<3.5.0,>=3.4.0->en-core-web-lg==3.4.0) (3.0.9)\n",
            "Requirement already satisfied: spacy-loggers<2.0.0,>=1.0.0 in /usr/local/lib/python3.7/dist-packages (from spacy<3.5.0,>=3.4.0->en-core-web-lg==3.4.0) (1.0.3)\n",
            "Requirement already satisfied: typing-extensions<4.2.0,>=3.7.4 in /usr/local/lib/python3.7/dist-packages (from spacy<3.5.0,>=3.4.0->en-core-web-lg==3.4.0) (4.1.1)\n",
            "Requirement already satisfied: numpy>=1.15.0 in /usr/local/lib/python3.7/dist-packages (from spacy<3.5.0,>=3.4.0->en-core-web-lg==3.4.0) (1.21.6)\n",
            "Requirement already satisfied: zipp>=0.5 in /usr/local/lib/python3.7/dist-packages (from catalogue<2.1.0,>=2.0.6->spacy<3.5.0,>=3.4.0->en-core-web-lg==3.4.0) (3.8.1)\n",
            "Requirement already satisfied: pyparsing>=2.0.2 in /usr/local/lib/python3.7/dist-packages (from packaging>=20.0->spacy<3.5.0,>=3.4.0->en-core-web-lg==3.4.0) (3.0.9)\n",
            "Requirement already satisfied: smart-open<6.0.0,>=5.2.1 in /usr/local/lib/python3.7/dist-packages (from pathy>=0.3.5->spacy<3.5.0,>=3.4.0->en-core-web-lg==3.4.0) (5.2.1)\n",
            "Requirement already satisfied: certifi>=2017.4.17 in /usr/local/lib/python3.7/dist-packages (from requests<3.0.0,>=2.13.0->spacy<3.5.0,>=3.4.0->en-core-web-lg==3.4.0) (2022.6.15)\n",
            "Requirement already satisfied: chardet<4,>=3.0.2 in /usr/local/lib/python3.7/dist-packages (from requests<3.0.0,>=2.13.0->spacy<3.5.0,>=3.4.0->en-core-web-lg==3.4.0) (3.0.4)\n",
            "Requirement already satisfied: urllib3!=1.25.0,!=1.25.1,<1.26,>=1.21.1 in /usr/local/lib/python3.7/dist-packages (from requests<3.0.0,>=2.13.0->spacy<3.5.0,>=3.4.0->en-core-web-lg==3.4.0) (1.24.3)\n",
            "Requirement already satisfied: idna<3,>=2.5 in /usr/local/lib/python3.7/dist-packages (from requests<3.0.0,>=2.13.0->spacy<3.5.0,>=3.4.0->en-core-web-lg==3.4.0) (2.10)\n",
            "Requirement already satisfied: blis<0.8.0,>=0.7.8 in /usr/local/lib/python3.7/dist-packages (from thinc<8.2.0,>=8.1.0->spacy<3.5.0,>=3.4.0->en-core-web-lg==3.4.0) (0.7.8)\n",
            "Requirement already satisfied: click<9.0.0,>=7.1.1 in /usr/local/lib/python3.7/dist-packages (from typer<0.5.0,>=0.3.0->spacy<3.5.0,>=3.4.0->en-core-web-lg==3.4.0) (7.1.2)\n",
            "Requirement already satisfied: MarkupSafe>=0.23 in /usr/local/lib/python3.7/dist-packages (from jinja2->spacy<3.5.0,>=3.4.0->en-core-web-lg==3.4.0) (2.0.1)\n",
            "\u001b[38;5;2m✔ Download and installation successful\u001b[0m\n",
            "You can now load the package via spacy.load('en_core_web_lg')\n"
          ]
        }
      ]
    },
    {
      "cell_type": "code",
      "source": [
        "!pip install presidio_analyzer\n",
        "!pip install presidio_anonymizer\n",
        "!pip install -U spacy\n",
        "!pip install transformers"
      ],
      "metadata": {
        "colab": {
          "base_uri": "https://localhost:8080/"
        },
        "id": "2SGjmcTgi6--",
        "outputId": "3b9f3653-ec7b-4daa-c386-3f9ac565c1b5"
      },
      "execution_count": 22,
      "outputs": [
        {
          "output_type": "stream",
          "name": "stdout",
          "text": [
            "Looking in indexes: https://pypi.org/simple, https://us-python.pkg.dev/colab-wheels/public/simple/\n",
            "Requirement already satisfied: presidio_analyzer in /usr/local/lib/python3.7/dist-packages (2.2.29)\n",
            "Requirement already satisfied: spacy>=3.2.0 in /usr/local/lib/python3.7/dist-packages (from presidio_analyzer) (3.4.1)\n",
            "Requirement already satisfied: regex in /usr/local/lib/python3.7/dist-packages (from presidio_analyzer) (2022.6.2)\n",
            "Requirement already satisfied: pyyaml in /usr/local/lib/python3.7/dist-packages (from presidio_analyzer) (6.0)\n",
            "Requirement already satisfied: phonenumbers>=8.12 in /usr/local/lib/python3.7/dist-packages (from presidio_analyzer) (8.12.53)\n",
            "Requirement already satisfied: tldextract in /usr/local/lib/python3.7/dist-packages (from presidio_analyzer) (3.3.1)\n",
            "Requirement already satisfied: preshed<3.1.0,>=3.0.2 in /usr/local/lib/python3.7/dist-packages (from spacy>=3.2.0->presidio_analyzer) (3.0.6)\n",
            "Requirement already satisfied: jinja2 in /usr/local/lib/python3.7/dist-packages (from spacy>=3.2.0->presidio_analyzer) (2.11.3)\n",
            "Requirement already satisfied: murmurhash<1.1.0,>=0.28.0 in /usr/local/lib/python3.7/dist-packages (from spacy>=3.2.0->presidio_analyzer) (1.0.7)\n",
            "Requirement already satisfied: cymem<2.1.0,>=2.0.2 in /usr/local/lib/python3.7/dist-packages (from spacy>=3.2.0->presidio_analyzer) (2.0.6)\n",
            "Requirement already satisfied: wasabi<1.1.0,>=0.9.1 in /usr/local/lib/python3.7/dist-packages (from spacy>=3.2.0->presidio_analyzer) (0.10.1)\n",
            "Requirement already satisfied: numpy>=1.15.0 in /usr/local/lib/python3.7/dist-packages (from spacy>=3.2.0->presidio_analyzer) (1.21.6)\n",
            "Requirement already satisfied: requests<3.0.0,>=2.13.0 in /usr/local/lib/python3.7/dist-packages (from spacy>=3.2.0->presidio_analyzer) (2.23.0)\n",
            "Requirement already satisfied: typing-extensions<4.2.0,>=3.7.4 in /usr/local/lib/python3.7/dist-packages (from spacy>=3.2.0->presidio_analyzer) (4.1.1)\n",
            "Requirement already satisfied: setuptools in /usr/local/lib/python3.7/dist-packages (from spacy>=3.2.0->presidio_analyzer) (57.4.0)\n",
            "Requirement already satisfied: packaging>=20.0 in /usr/local/lib/python3.7/dist-packages (from spacy>=3.2.0->presidio_analyzer) (20.9)\n",
            "Requirement already satisfied: typer<0.5.0,>=0.3.0 in /usr/local/lib/python3.7/dist-packages (from spacy>=3.2.0->presidio_analyzer) (0.4.2)\n",
            "Requirement already satisfied: catalogue<2.1.0,>=2.0.6 in /usr/local/lib/python3.7/dist-packages (from spacy>=3.2.0->presidio_analyzer) (2.0.8)\n",
            "Requirement already satisfied: tqdm<5.0.0,>=4.38.0 in /usr/local/lib/python3.7/dist-packages (from spacy>=3.2.0->presidio_analyzer) (4.64.0)\n",
            "Requirement already satisfied: srsly<3.0.0,>=2.4.3 in /usr/local/lib/python3.7/dist-packages (from spacy>=3.2.0->presidio_analyzer) (2.4.4)\n",
            "Requirement already satisfied: spacy-loggers<2.0.0,>=1.0.0 in /usr/local/lib/python3.7/dist-packages (from spacy>=3.2.0->presidio_analyzer) (1.0.3)\n",
            "Requirement already satisfied: spacy-legacy<3.1.0,>=3.0.9 in /usr/local/lib/python3.7/dist-packages (from spacy>=3.2.0->presidio_analyzer) (3.0.9)\n",
            "Requirement already satisfied: thinc<8.2.0,>=8.1.0 in /usr/local/lib/python3.7/dist-packages (from spacy>=3.2.0->presidio_analyzer) (8.1.0)\n",
            "Requirement already satisfied: pydantic!=1.8,!=1.8.1,<1.10.0,>=1.7.4 in /usr/local/lib/python3.7/dist-packages (from spacy>=3.2.0->presidio_analyzer) (1.9.1)\n",
            "Requirement already satisfied: langcodes<4.0.0,>=3.2.0 in /usr/local/lib/python3.7/dist-packages (from spacy>=3.2.0->presidio_analyzer) (3.3.0)\n",
            "Requirement already satisfied: pathy>=0.3.5 in /usr/local/lib/python3.7/dist-packages (from spacy>=3.2.0->presidio_analyzer) (0.6.2)\n",
            "Requirement already satisfied: zipp>=0.5 in /usr/local/lib/python3.7/dist-packages (from catalogue<2.1.0,>=2.0.6->spacy>=3.2.0->presidio_analyzer) (3.8.1)\n",
            "Requirement already satisfied: pyparsing>=2.0.2 in /usr/local/lib/python3.7/dist-packages (from packaging>=20.0->spacy>=3.2.0->presidio_analyzer) (3.0.9)\n",
            "Requirement already satisfied: smart-open<6.0.0,>=5.2.1 in /usr/local/lib/python3.7/dist-packages (from pathy>=0.3.5->spacy>=3.2.0->presidio_analyzer) (5.2.1)\n",
            "Requirement already satisfied: idna<3,>=2.5 in /usr/local/lib/python3.7/dist-packages (from requests<3.0.0,>=2.13.0->spacy>=3.2.0->presidio_analyzer) (2.10)\n",
            "Requirement already satisfied: chardet<4,>=3.0.2 in /usr/local/lib/python3.7/dist-packages (from requests<3.0.0,>=2.13.0->spacy>=3.2.0->presidio_analyzer) (3.0.4)\n",
            "Requirement already satisfied: certifi>=2017.4.17 in /usr/local/lib/python3.7/dist-packages (from requests<3.0.0,>=2.13.0->spacy>=3.2.0->presidio_analyzer) (2022.6.15)\n",
            "Requirement already satisfied: urllib3!=1.25.0,!=1.25.1,<1.26,>=1.21.1 in /usr/local/lib/python3.7/dist-packages (from requests<3.0.0,>=2.13.0->spacy>=3.2.0->presidio_analyzer) (1.24.3)\n",
            "Requirement already satisfied: blis<0.8.0,>=0.7.8 in /usr/local/lib/python3.7/dist-packages (from thinc<8.2.0,>=8.1.0->spacy>=3.2.0->presidio_analyzer) (0.7.8)\n",
            "Requirement already satisfied: click<9.0.0,>=7.1.1 in /usr/local/lib/python3.7/dist-packages (from typer<0.5.0,>=0.3.0->spacy>=3.2.0->presidio_analyzer) (7.1.2)\n",
            "Requirement already satisfied: MarkupSafe>=0.23 in /usr/local/lib/python3.7/dist-packages (from jinja2->spacy>=3.2.0->presidio_analyzer) (2.0.1)\n",
            "Requirement already satisfied: requests-file>=1.4 in /usr/local/lib/python3.7/dist-packages (from tldextract->presidio_analyzer) (1.5.1)\n",
            "Requirement already satisfied: filelock>=3.0.8 in /usr/local/lib/python3.7/dist-packages (from tldextract->presidio_analyzer) (3.7.1)\n",
            "Requirement already satisfied: six in /usr/local/lib/python3.7/dist-packages (from requests-file>=1.4->tldextract->presidio_analyzer) (1.15.0)\n",
            "Looking in indexes: https://pypi.org/simple, https://us-python.pkg.dev/colab-wheels/public/simple/\n",
            "Requirement already satisfied: presidio_anonymizer in /usr/local/lib/python3.7/dist-packages (2.2.29)\n",
            "Requirement already satisfied: pycryptodome>=3.10.1 in /usr/local/lib/python3.7/dist-packages (from presidio_anonymizer) (3.15.0)\n",
            "Looking in indexes: https://pypi.org/simple, https://us-python.pkg.dev/colab-wheels/public/simple/\n",
            "Requirement already satisfied: spacy in /usr/local/lib/python3.7/dist-packages (3.4.1)\n",
            "Requirement already satisfied: murmurhash<1.1.0,>=0.28.0 in /usr/local/lib/python3.7/dist-packages (from spacy) (1.0.7)\n",
            "Requirement already satisfied: numpy>=1.15.0 in /usr/local/lib/python3.7/dist-packages (from spacy) (1.21.6)\n",
            "Requirement already satisfied: requests<3.0.0,>=2.13.0 in /usr/local/lib/python3.7/dist-packages (from spacy) (2.23.0)\n",
            "Requirement already satisfied: setuptools in /usr/local/lib/python3.7/dist-packages (from spacy) (57.4.0)\n",
            "Requirement already satisfied: tqdm<5.0.0,>=4.38.0 in /usr/local/lib/python3.7/dist-packages (from spacy) (4.64.0)\n",
            "Requirement already satisfied: langcodes<4.0.0,>=3.2.0 in /usr/local/lib/python3.7/dist-packages (from spacy) (3.3.0)\n",
            "Requirement already satisfied: thinc<8.2.0,>=8.1.0 in /usr/local/lib/python3.7/dist-packages (from spacy) (8.1.0)\n",
            "Requirement already satisfied: catalogue<2.1.0,>=2.0.6 in /usr/local/lib/python3.7/dist-packages (from spacy) (2.0.8)\n",
            "Requirement already satisfied: jinja2 in /usr/local/lib/python3.7/dist-packages (from spacy) (2.11.3)\n",
            "Requirement already satisfied: srsly<3.0.0,>=2.4.3 in /usr/local/lib/python3.7/dist-packages (from spacy) (2.4.4)\n",
            "Requirement already satisfied: typer<0.5.0,>=0.3.0 in /usr/local/lib/python3.7/dist-packages (from spacy) (0.4.2)\n",
            "Requirement already satisfied: preshed<3.1.0,>=3.0.2 in /usr/local/lib/python3.7/dist-packages (from spacy) (3.0.6)\n",
            "Requirement already satisfied: cymem<2.1.0,>=2.0.2 in /usr/local/lib/python3.7/dist-packages (from spacy) (2.0.6)\n",
            "Requirement already satisfied: packaging>=20.0 in /usr/local/lib/python3.7/dist-packages (from spacy) (20.9)\n",
            "Requirement already satisfied: typing-extensions<4.2.0,>=3.7.4 in /usr/local/lib/python3.7/dist-packages (from spacy) (4.1.1)\n",
            "Requirement already satisfied: wasabi<1.1.0,>=0.9.1 in /usr/local/lib/python3.7/dist-packages (from spacy) (0.10.1)\n",
            "Requirement already satisfied: pathy>=0.3.5 in /usr/local/lib/python3.7/dist-packages (from spacy) (0.6.2)\n",
            "Requirement already satisfied: pydantic!=1.8,!=1.8.1,<1.10.0,>=1.7.4 in /usr/local/lib/python3.7/dist-packages (from spacy) (1.9.1)\n",
            "Requirement already satisfied: spacy-legacy<3.1.0,>=3.0.9 in /usr/local/lib/python3.7/dist-packages (from spacy) (3.0.9)\n",
            "Requirement already satisfied: spacy-loggers<2.0.0,>=1.0.0 in /usr/local/lib/python3.7/dist-packages (from spacy) (1.0.3)\n",
            "Requirement already satisfied: zipp>=0.5 in /usr/local/lib/python3.7/dist-packages (from catalogue<2.1.0,>=2.0.6->spacy) (3.8.1)\n",
            "Requirement already satisfied: pyparsing>=2.0.2 in /usr/local/lib/python3.7/dist-packages (from packaging>=20.0->spacy) (3.0.9)\n",
            "Requirement already satisfied: smart-open<6.0.0,>=5.2.1 in /usr/local/lib/python3.7/dist-packages (from pathy>=0.3.5->spacy) (5.2.1)\n",
            "Requirement already satisfied: idna<3,>=2.5 in /usr/local/lib/python3.7/dist-packages (from requests<3.0.0,>=2.13.0->spacy) (2.10)\n",
            "Requirement already satisfied: urllib3!=1.25.0,!=1.25.1,<1.26,>=1.21.1 in /usr/local/lib/python3.7/dist-packages (from requests<3.0.0,>=2.13.0->spacy) (1.24.3)\n",
            "Requirement already satisfied: certifi>=2017.4.17 in /usr/local/lib/python3.7/dist-packages (from requests<3.0.0,>=2.13.0->spacy) (2022.6.15)\n",
            "Requirement already satisfied: chardet<4,>=3.0.2 in /usr/local/lib/python3.7/dist-packages (from requests<3.0.0,>=2.13.0->spacy) (3.0.4)\n",
            "Requirement already satisfied: blis<0.8.0,>=0.7.8 in /usr/local/lib/python3.7/dist-packages (from thinc<8.2.0,>=8.1.0->spacy) (0.7.8)\n",
            "Requirement already satisfied: click<9.0.0,>=7.1.1 in /usr/local/lib/python3.7/dist-packages (from typer<0.5.0,>=0.3.0->spacy) (7.1.2)\n",
            "Requirement already satisfied: MarkupSafe>=0.23 in /usr/local/lib/python3.7/dist-packages (from jinja2->spacy) (2.0.1)\n",
            "Looking in indexes: https://pypi.org/simple, https://us-python.pkg.dev/colab-wheels/public/simple/\n",
            "Requirement already satisfied: transformers in /usr/local/lib/python3.7/dist-packages (4.21.1)\n",
            "Requirement already satisfied: regex!=2019.12.17 in /usr/local/lib/python3.7/dist-packages (from transformers) (2022.6.2)\n",
            "Requirement already satisfied: huggingface-hub<1.0,>=0.1.0 in /usr/local/lib/python3.7/dist-packages (from transformers) (0.8.1)\n",
            "Requirement already satisfied: requests in /usr/local/lib/python3.7/dist-packages (from transformers) (2.23.0)\n",
            "Requirement already satisfied: tqdm>=4.27 in /usr/local/lib/python3.7/dist-packages (from transformers) (4.64.0)\n",
            "Requirement already satisfied: numpy>=1.17 in /usr/local/lib/python3.7/dist-packages (from transformers) (1.21.6)\n",
            "Requirement already satisfied: filelock in /usr/local/lib/python3.7/dist-packages (from transformers) (3.7.1)\n",
            "Requirement already satisfied: tokenizers!=0.11.3,<0.13,>=0.11.1 in /usr/local/lib/python3.7/dist-packages (from transformers) (0.12.1)\n",
            "Requirement already satisfied: importlib-metadata in /usr/local/lib/python3.7/dist-packages (from transformers) (4.12.0)\n",
            "Requirement already satisfied: packaging>=20.0 in /usr/local/lib/python3.7/dist-packages (from transformers) (20.9)\n",
            "Requirement already satisfied: pyyaml>=5.1 in /usr/local/lib/python3.7/dist-packages (from transformers) (6.0)\n",
            "Requirement already satisfied: typing-extensions>=3.7.4.3 in /usr/local/lib/python3.7/dist-packages (from huggingface-hub<1.0,>=0.1.0->transformers) (4.1.1)\n",
            "Requirement already satisfied: pyparsing>=2.0.2 in /usr/local/lib/python3.7/dist-packages (from packaging>=20.0->transformers) (3.0.9)\n",
            "Requirement already satisfied: zipp>=0.5 in /usr/local/lib/python3.7/dist-packages (from importlib-metadata->transformers) (3.8.1)\n",
            "Requirement already satisfied: urllib3!=1.25.0,!=1.25.1,<1.26,>=1.21.1 in /usr/local/lib/python3.7/dist-packages (from requests->transformers) (1.24.3)\n",
            "Requirement already satisfied: certifi>=2017.4.17 in /usr/local/lib/python3.7/dist-packages (from requests->transformers) (2022.6.15)\n",
            "Requirement already satisfied: idna<3,>=2.5 in /usr/local/lib/python3.7/dist-packages (from requests->transformers) (2.10)\n",
            "Requirement already satisfied: chardet<4,>=3.0.2 in /usr/local/lib/python3.7/dist-packages (from requests->transformers) (3.0.4)\n"
          ]
        }
      ]
    },
    {
      "cell_type": "code",
      "source": [
        "import spacy\n",
        "import pandas as pd\n",
        "from typing import List\n",
        "import pprint\n",
        "from presidio_analyzer import AnalyzerEngine, PatternRecognizer, EntityRecognizer, Pattern, RecognizerResult\n",
        "from presidio_analyzer.recognizer_registry import RecognizerRegistry\n",
        "from presidio_analyzer.nlp_engine import NlpEngine, SpacyNlpEngine, NlpArtifacts\n",
        "from presidio_analyzer.context_aware_enhancers import LemmaContextAwareEnhancer"
      ],
      "metadata": {
        "id": "AsrNFspmi7EH"
      },
      "execution_count": 23,
      "outputs": []
    },
    {
      "cell_type": "markdown",
      "source": [
        "Creating Model"
      ],
      "metadata": {
        "id": "t2JTV97Zk8MY"
      }
    },
    {
      "cell_type": "code",
      "source": [
        "from presidio_anonymizer import AnonymizerEngine\n",
        "from presidio_analyzer import AnalyzerEngine\n",
        "from typing import List\n",
        "\n",
        "from presidio_analyzer import AnalyzerEngine, EntityRecognizer, RecognizerResult\n",
        "from presidio_analyzer.nlp_engine import NlpArtifacts\n",
        "from transformers import pipeline\n",
        "\n",
        "# load spacy model -> workaround\n",
        "import os\n",
        "os.system(\"spacy download en_core_web_lg\")\n",
        "\n",
        "# list of entities: https://microsoft.github.io/presidio/supported_entities/#list-of-supported-entities\n",
        "DEFAULT_ANOYNM_ENTITIES = [\n",
        "    \"CREDIT_CARD\",\n",
        "    \"CRYPTO\",\n",
        "    \"DATE_TIME\",\n",
        "    \"EMAIL_ADDRESS\",\n",
        "    \"IBAN_CODE\",\n",
        "    \"IP_ADDRESS\",\n",
        "    \"NRP\",\n",
        "    \"LOCATION\",\n",
        "    \"PERSON\",\n",
        "    \"PHONE_NUMBER\",\n",
        "    \"MEDICAL_LICENSE\",\n",
        "    \"URL\",\n",
        "    \"US_SSN\",\"US_BANK_NUMBER\"\n",
        "]\n",
        "\n",
        "# init anonymize engine\n",
        "engine = AnonymizerEngine()\n",
        "\n",
        "class HFTransformersRecognizer(EntityRecognizer):\n",
        "    def __init__(\n",
        "        self,\n",
        "        model_id_or_path=None,\n",
        "        aggregation_strategy=\"simple\",\n",
        "        supported_language=\"en\",\n",
        "        ignore_labels=[\"O\", \"MISC\"],\n",
        "    ):\n",
        "        # inits transformers pipeline for given mode or path\n",
        "        self.pipeline = pipeline(\n",
        "            \"token-classification\", model=model_id_or_path, aggregation_strategy=aggregation_strategy, ignore_labels=ignore_labels\n",
        "        )\n",
        "        # map labels to presidio labels\n",
        "        self.label2presidio = {\n",
        "            \"PER\": \"PERSON\",\n",
        "            \"LOC\": \"LOCATION\",\n",
        "            \"ORG\": \"ORGANIZATION\",\n",
        "        }\n",
        "\n",
        "        # passes entities from model into parent class\n",
        "        super().__init__(supported_entities=list(self.label2presidio.values()), supported_language=supported_language)\n",
        "\n",
        "    def load(self) -> None:\n",
        "        \"\"\"No loading is required.\"\"\"\n",
        "        pass\n",
        "\n",
        "    def analyze(\n",
        "        self, text: str, entities: List[str] = None, nlp_artifacts: NlpArtifacts = None\n",
        "    ) -> List[RecognizerResult]:\n",
        "        \"\"\"\n",
        "        Extracts entities using Transformers pipeline\n",
        "        \"\"\"\n",
        "        results = []\n",
        "\n",
        "        # keep max sequence length in mind\n",
        "        predicted_entities = self.pipeline(text)\n",
        "        if len(predicted_entities) > 0:\n",
        "            for e in predicted_entities:\n",
        "                converted_entity = self.label2presidio[e[\"entity_group\"]]\n",
        "                if converted_entity in entities or entities is None:\n",
        "                    results.append(\n",
        "                        RecognizerResult(\n",
        "                            entity_type=converted_entity, start=e[\"start\"], end=e[\"end\"], score=e[\"score\"]\n",
        "                        )\n",
        "                    )\n",
        "        return results\n",
        "\n",
        "\n",
        "def model_fn(model_dir):\n",
        "    transformers_recognizer = HFTransformersRecognizer(model_dir)\n",
        "    # Set up the engine, loads the NLP module (spaCy model by default) and other PII recognizers\n",
        "    analyzer = AnalyzerEngine()\n",
        "    analyzer.registry.add_recognizer(transformers_recognizer)\n",
        "    return analyzer\n",
        "\n",
        "\n",
        "def predict_fn(data, analyzer):\n",
        "    sentences = data.pop(\"inputs\", data)\n",
        "    if \"parameters\" in data:\n",
        "        anonymization_entities = data[\"parameters\"].get(\"entities\", DEFAULT_ANOYNM_ENTITIES)\n",
        "        anonymize_text = data[\"parameters\"].get(\"anonymize\", False)\n",
        "    else:\n",
        "        anonymization_entities = DEFAULT_ANOYNM_ENTITIES\n",
        "        anonymize_text = False\n",
        "\n",
        "    # identify entities\n",
        "    results = analyzer.analyze(text=sentences, entities=anonymization_entities, language=\"en\")\n",
        "    # anonymize text\n",
        "    if anonymize_text:\n",
        "        result = engine.anonymize(text=sentences, analyzer_results=results)\n",
        "        return {\"anonymized\": result.text}\n",
        "\n",
        "    return {\"found\": [entity.to_dict() for entity in results]}"
      ],
      "metadata": {
        "id": "lsW8E_emi7Lj"
      },
      "execution_count": 24,
      "outputs": []
    },
    {
      "cell_type": "markdown",
      "source": [
        "Testing Model for a given sentence"
      ],
      "metadata": {
        "id": "yC3SClGcv9vT"
      }
    },
    {
      "cell_type": "code",
      "source": [
        "sentence=\"\"\"\n",
        "Hello, my name is Zack and I live in Istanbul.\n",
        "I work for DataTera Tech. \n",
        "You can call me at (212) 555-1234.\n",
        "My credit card number is 4001-9192-5753-7193 and my crypto wallet id is 16Yeky6GMjeNkAiNcBY7ZhrLoMSgg1BoyZ.\n",
        "My passport number : 191280342.\n",
        "This is a valid International Bank Account Number: IL150120690000003111111.\n",
        "My social security number is 078-05-1126.  My driver license number is 1234567A.\"\"\""
      ],
      "metadata": {
        "id": "PE_dkL9Ci7Sj"
      },
      "execution_count": 25,
      "outputs": []
    },
    {
      "cell_type": "code",
      "source": [
        "data = {\n",
        "  \"inputs\": sentence,\n",
        "}"
      ],
      "metadata": {
        "id": "34-H-wbsi7dQ"
      },
      "execution_count": 26,
      "outputs": []
    },
    {
      "cell_type": "code",
      "source": [
        "predict_fn(data,AnalyzerEngine())\n",
        "# output shows that credit card, crypto, Iban Code, Person, Location, Phone Number Entities are detected"
      ],
      "metadata": {
        "colab": {
          "base_uri": "https://localhost:8080/"
        },
        "id": "pi2Jo2ywi7k-",
        "outputId": "b0a04e0f-918f-4cc4-8fc2-632fa85be0b3"
      },
      "execution_count": 27,
      "outputs": [
        {
          "output_type": "stream",
          "name": "stderr",
          "text": [
            "WARNING:presidio-analyzer:configuration file /usr/local/lib/python3.7/dist-packages/conf/default.yaml not found.  Using default config: {'nlp_engine_name': 'spacy', 'models': [{'lang_code': 'en', 'model_name': 'en_core_web_lg'}]}.\n"
          ]
        },
        {
          "output_type": "execute_result",
          "data": {
            "text/plain": [
              "{'found': [{'analysis_explanation': None,\n",
              "   'end': 154,\n",
              "   'entity_type': 'CREDIT_CARD',\n",
              "   'recognition_metadata': {'recognizer_name': 'CreditCardRecognizer'},\n",
              "   'score': 1.0,\n",
              "   'start': 135},\n",
              "  {'analysis_explanation': None,\n",
              "   'end': 216,\n",
              "   'entity_type': 'CRYPTO',\n",
              "   'recognition_metadata': {'recognizer_name': 'CryptoRecognizer'},\n",
              "   'score': 1.0,\n",
              "   'start': 182},\n",
              "  {'analysis_explanation': None,\n",
              "   'end': 324,\n",
              "   'entity_type': 'IBAN_CODE',\n",
              "   'recognition_metadata': {'recognizer_name': 'IbanRecognizer'},\n",
              "   'score': 1.0,\n",
              "   'start': 301},\n",
              "  {'analysis_explanation': None,\n",
              "   'end': 23,\n",
              "   'entity_type': 'PERSON',\n",
              "   'recognition_metadata': {'recognizer_name': 'SpacyRecognizer'},\n",
              "   'score': 0.85,\n",
              "   'start': 19},\n",
              "  {'analysis_explanation': None,\n",
              "   'end': 46,\n",
              "   'entity_type': 'LOCATION',\n",
              "   'recognition_metadata': {'recognizer_name': 'SpacyRecognizer'},\n",
              "   'score': 0.85,\n",
              "   'start': 38},\n",
              "  {'analysis_explanation': None,\n",
              "   'end': 366,\n",
              "   'entity_type': 'US_SSN',\n",
              "   'recognition_metadata': {'recognizer_name': 'UsSsnRecognizer'},\n",
              "   'score': 0.85,\n",
              "   'start': 355},\n",
              "  {'analysis_explanation': None,\n",
              "   'end': 366,\n",
              "   'entity_type': 'PHONE_NUMBER',\n",
              "   'recognition_metadata': {'recognizer_name': 'PhoneRecognizer'},\n",
              "   'score': 0.75,\n",
              "   'start': 355},\n",
              "  {'analysis_explanation': None,\n",
              "   'end': 108,\n",
              "   'entity_type': 'PHONE_NUMBER',\n",
              "   'recognition_metadata': {'recognizer_name': 'PhoneRecognizer'},\n",
              "   'score': 0.4,\n",
              "   'start': 94},\n",
              "  {'analysis_explanation': None,\n",
              "   'end': 248,\n",
              "   'entity_type': 'US_SSN',\n",
              "   'recognition_metadata': {'recognizer_name': 'UsSsnRecognizer'},\n",
              "   'score': 0.05,\n",
              "   'start': 239},\n",
              "  {'analysis_explanation': None,\n",
              "   'end': 248,\n",
              "   'entity_type': 'US_BANK_NUMBER',\n",
              "   'recognition_metadata': {'recognizer_name': 'UsBankRecognizer'},\n",
              "   'score': 0.05,\n",
              "   'start': 239}]}"
            ]
          },
          "metadata": {},
          "execution_count": 27
        }
      ]
    },
    {
      "cell_type": "markdown",
      "source": [
        "Detecting only Credit Card- if we only want to detect credit card we need to mention in the \"entities\" part"
      ],
      "metadata": {
        "id": "7KmPd8QOlzlD"
      }
    },
    {
      "cell_type": "code",
      "source": [
        "data = {\n",
        "  \"inputs\": sentence,\n",
        "  \"parameters\": {\n",
        "    \"entities\":[\"CREDIT_CARD\"]\n",
        "  }\n",
        "}"
      ],
      "metadata": {
        "id": "YRr3OOYdi7pg"
      },
      "execution_count": 28,
      "outputs": []
    },
    {
      "cell_type": "code",
      "source": [
        "predict_fn(data,AnalyzerEngine())\n",
        "# output shows that credit card entitie is detected "
      ],
      "metadata": {
        "colab": {
          "base_uri": "https://localhost:8080/"
        },
        "id": "tzUqzSn0i7vd",
        "outputId": "96760931-ef88-45d5-d979-8c3d609f7f09"
      },
      "execution_count": 29,
      "outputs": [
        {
          "output_type": "stream",
          "name": "stderr",
          "text": [
            "WARNING:presidio-analyzer:configuration file /usr/local/lib/python3.7/dist-packages/conf/default.yaml not found.  Using default config: {'nlp_engine_name': 'spacy', 'models': [{'lang_code': 'en', 'model_name': 'en_core_web_lg'}]}.\n"
          ]
        },
        {
          "output_type": "execute_result",
          "data": {
            "text/plain": [
              "{'found': [{'analysis_explanation': None,\n",
              "   'end': 154,\n",
              "   'entity_type': 'CREDIT_CARD',\n",
              "   'recognition_metadata': {'recognizer_name': 'CreditCardRecognizer'},\n",
              "   'score': 1.0,\n",
              "   'start': 135}]}"
            ]
          },
          "metadata": {},
          "execution_count": 29
        }
      ]
    },
    {
      "cell_type": "markdown",
      "source": [
        "Anonymize (Optional) all entities- If we want to anonymize detected entites we need to make \"anonymize\":True"
      ],
      "metadata": {
        "id": "PAm521ggmFRr"
      }
    },
    {
      "cell_type": "code",
      "source": [
        "data = {\n",
        "  \"inputs\": sentence,\n",
        "  \"parameters\": {\n",
        "    \"anonymize\": True,\n",
        "  }\n",
        "}"
      ],
      "metadata": {
        "id": "b--WWx6qi71B"
      },
      "execution_count": 30,
      "outputs": []
    },
    {
      "cell_type": "code",
      "source": [
        "print(predict_fn(data,AnalyzerEngine())[\"anonymized\"])\n",
        "#output is anonymized"
      ],
      "metadata": {
        "colab": {
          "base_uri": "https://localhost:8080/"
        },
        "id": "fVouvWSEi76D",
        "outputId": "4d1a145c-42f8-47fb-8479-23fe533029a9"
      },
      "execution_count": 31,
      "outputs": [
        {
          "output_type": "stream",
          "name": "stderr",
          "text": [
            "WARNING:presidio-analyzer:configuration file /usr/local/lib/python3.7/dist-packages/conf/default.yaml not found.  Using default config: {'nlp_engine_name': 'spacy', 'models': [{'lang_code': 'en', 'model_name': 'en_core_web_lg'}]}.\n"
          ]
        },
        {
          "output_type": "stream",
          "name": "stdout",
          "text": [
            "\n",
            "Hello, my name is <PERSON> and I live in <LOCATION>.\n",
            "I work for DataTera Tech. \n",
            "You can call me at <PHONE_NUMBER>.\n",
            "My credit card number is <CREDIT_CARD> and my crypto wallet id is <CRYPTO>.\n",
            "My passport number : <US_BANK_NUMBER>.\n",
            "This is a valid International Bank Account Number: <IBAN_CODE>.\n",
            "My social security number is <US_SSN>.  My driver license number is 1234567A.\n"
          ]
        }
      ]
    },
    {
      "cell_type": "markdown",
      "source": [
        "Anonymize only PERSON and LOCATION in the text- we can anonymize any entities that we choose, in this example person and location were anonymized"
      ],
      "metadata": {
        "id": "gszVXpILmXYU"
      }
    },
    {
      "cell_type": "code",
      "source": [
        "data = {\n",
        "  \"inputs\": sentence,\n",
        "  \"parameters\": {\n",
        "    \"anonymize\": True,\n",
        "    \"entities\":[\"PERSON\",\"LOCATION\"]\n",
        "  }\n",
        "}"
      ],
      "metadata": {
        "id": "D_sUBGdMi7_G"
      },
      "execution_count": 32,
      "outputs": []
    },
    {
      "cell_type": "code",
      "source": [
        "print(predict_fn(data,AnalyzerEngine())[\"anonymized\"])"
      ],
      "metadata": {
        "colab": {
          "base_uri": "https://localhost:8080/"
        },
        "id": "YPRNq46bi8EK",
        "outputId": "4d454dd9-d3b5-4c50-9731-fcb6ce4fdf29"
      },
      "execution_count": 33,
      "outputs": [
        {
          "output_type": "stream",
          "name": "stderr",
          "text": [
            "WARNING:presidio-analyzer:configuration file /usr/local/lib/python3.7/dist-packages/conf/default.yaml not found.  Using default config: {'nlp_engine_name': 'spacy', 'models': [{'lang_code': 'en', 'model_name': 'en_core_web_lg'}]}.\n"
          ]
        },
        {
          "output_type": "stream",
          "name": "stdout",
          "text": [
            "\n",
            "Hello, my name is <PERSON> and I live in <LOCATION>.\n",
            "I work for DataTera Tech. \n",
            "You can call me at (212) 555-1234.\n",
            "My credit card number is 4001-9192-5753-7193 and my crypto wallet id is 16Yeky6GMjeNkAiNcBY7ZhrLoMSgg1BoyZ.\n",
            "My passport number : 191280342.\n",
            "This is a valid International Bank Account Number: IL150120690000003111111.\n",
            "My social security number is 078-05-1126.  My driver license number is 1234567A.\n"
          ]
        }
      ]
    },
    {
      "cell_type": "markdown",
      "source": [
        "Testing Model on a DataSet- we can use this model for a given dataset,  for this a function was defined"
      ],
      "metadata": {
        "id": "yCChYAH7mk9N"
      }
    },
    {
      "cell_type": "code",
      "source": [
        "data=pd.read_csv(\"TestData.csv\")"
      ],
      "metadata": {
        "id": "qxtZE6Lki8N8"
      },
      "execution_count": 43,
      "outputs": []
    },
    {
      "cell_type": "code",
      "source": [
        "data.head()"
      ],
      "metadata": {
        "colab": {
          "base_uri": "https://localhost:8080/",
          "height": 175
        },
        "id": "4m-DKL65i8Sh",
        "outputId": "a58f8094-62a3-406a-9b11-ef99cad1ad89"
      },
      "execution_count": 44,
      "outputs": [
        {
          "output_type": "execute_result",
          "data": {
            "text/plain": [
              "      CreditCard(Visa)          SSN    Salary               Name\n",
              "0  4263-9826-4026-9299  111-05-1126  \"150000\"         Jack North\n",
              "1  4508-5491-8274-5088  524-05-1126  \"120000\"       Hanse Mortey\n",
              "2  4917-4845-8989-7107  078-05-1126  \"110000\"  Isabelle Martinez\n",
              "3  4001-9192-5753-7193  078-05-1126  \"100000\"        Hassan Cook"
            ],
            "text/html": [
              "\n",
              "  <div id=\"df-b40fac4f-22b3-4df5-ba5b-6f2a42df2d5e\">\n",
              "    <div class=\"colab-df-container\">\n",
              "      <div>\n",
              "<style scoped>\n",
              "    .dataframe tbody tr th:only-of-type {\n",
              "        vertical-align: middle;\n",
              "    }\n",
              "\n",
              "    .dataframe tbody tr th {\n",
              "        vertical-align: top;\n",
              "    }\n",
              "\n",
              "    .dataframe thead th {\n",
              "        text-align: right;\n",
              "    }\n",
              "</style>\n",
              "<table border=\"1\" class=\"dataframe\">\n",
              "  <thead>\n",
              "    <tr style=\"text-align: right;\">\n",
              "      <th></th>\n",
              "      <th>CreditCard(Visa)</th>\n",
              "      <th>SSN</th>\n",
              "      <th>Salary</th>\n",
              "      <th>Name</th>\n",
              "    </tr>\n",
              "  </thead>\n",
              "  <tbody>\n",
              "    <tr>\n",
              "      <th>0</th>\n",
              "      <td>4263-9826-4026-9299</td>\n",
              "      <td>111-05-1126</td>\n",
              "      <td>\"150000\"</td>\n",
              "      <td>Jack North</td>\n",
              "    </tr>\n",
              "    <tr>\n",
              "      <th>1</th>\n",
              "      <td>4508-5491-8274-5088</td>\n",
              "      <td>524-05-1126</td>\n",
              "      <td>\"120000\"</td>\n",
              "      <td>Hanse Mortey</td>\n",
              "    </tr>\n",
              "    <tr>\n",
              "      <th>2</th>\n",
              "      <td>4917-4845-8989-7107</td>\n",
              "      <td>078-05-1126</td>\n",
              "      <td>\"110000\"</td>\n",
              "      <td>Isabelle Martinez</td>\n",
              "    </tr>\n",
              "    <tr>\n",
              "      <th>3</th>\n",
              "      <td>4001-9192-5753-7193</td>\n",
              "      <td>078-05-1126</td>\n",
              "      <td>\"100000\"</td>\n",
              "      <td>Hassan Cook</td>\n",
              "    </tr>\n",
              "  </tbody>\n",
              "</table>\n",
              "</div>\n",
              "      <button class=\"colab-df-convert\" onclick=\"convertToInteractive('df-b40fac4f-22b3-4df5-ba5b-6f2a42df2d5e')\"\n",
              "              title=\"Convert this dataframe to an interactive table.\"\n",
              "              style=\"display:none;\">\n",
              "        \n",
              "  <svg xmlns=\"http://www.w3.org/2000/svg\" height=\"24px\"viewBox=\"0 0 24 24\"\n",
              "       width=\"24px\">\n",
              "    <path d=\"M0 0h24v24H0V0z\" fill=\"none\"/>\n",
              "    <path d=\"M18.56 5.44l.94 2.06.94-2.06 2.06-.94-2.06-.94-.94-2.06-.94 2.06-2.06.94zm-11 1L8.5 8.5l.94-2.06 2.06-.94-2.06-.94L8.5 2.5l-.94 2.06-2.06.94zm10 10l.94 2.06.94-2.06 2.06-.94-2.06-.94-.94-2.06-.94 2.06-2.06.94z\"/><path d=\"M17.41 7.96l-1.37-1.37c-.4-.4-.92-.59-1.43-.59-.52 0-1.04.2-1.43.59L10.3 9.45l-7.72 7.72c-.78.78-.78 2.05 0 2.83L4 21.41c.39.39.9.59 1.41.59.51 0 1.02-.2 1.41-.59l7.78-7.78 2.81-2.81c.8-.78.8-2.07 0-2.86zM5.41 20L4 18.59l7.72-7.72 1.47 1.35L5.41 20z\"/>\n",
              "  </svg>\n",
              "      </button>\n",
              "      \n",
              "  <style>\n",
              "    .colab-df-container {\n",
              "      display:flex;\n",
              "      flex-wrap:wrap;\n",
              "      gap: 12px;\n",
              "    }\n",
              "\n",
              "    .colab-df-convert {\n",
              "      background-color: #E8F0FE;\n",
              "      border: none;\n",
              "      border-radius: 50%;\n",
              "      cursor: pointer;\n",
              "      display: none;\n",
              "      fill: #1967D2;\n",
              "      height: 32px;\n",
              "      padding: 0 0 0 0;\n",
              "      width: 32px;\n",
              "    }\n",
              "\n",
              "    .colab-df-convert:hover {\n",
              "      background-color: #E2EBFA;\n",
              "      box-shadow: 0px 1px 2px rgba(60, 64, 67, 0.3), 0px 1px 3px 1px rgba(60, 64, 67, 0.15);\n",
              "      fill: #174EA6;\n",
              "    }\n",
              "\n",
              "    [theme=dark] .colab-df-convert {\n",
              "      background-color: #3B4455;\n",
              "      fill: #D2E3FC;\n",
              "    }\n",
              "\n",
              "    [theme=dark] .colab-df-convert:hover {\n",
              "      background-color: #434B5C;\n",
              "      box-shadow: 0px 1px 3px 1px rgba(0, 0, 0, 0.15);\n",
              "      filter: drop-shadow(0px 1px 2px rgba(0, 0, 0, 0.3));\n",
              "      fill: #FFFFFF;\n",
              "    }\n",
              "  </style>\n",
              "\n",
              "      <script>\n",
              "        const buttonEl =\n",
              "          document.querySelector('#df-b40fac4f-22b3-4df5-ba5b-6f2a42df2d5e button.colab-df-convert');\n",
              "        buttonEl.style.display =\n",
              "          google.colab.kernel.accessAllowed ? 'block' : 'none';\n",
              "\n",
              "        async function convertToInteractive(key) {\n",
              "          const element = document.querySelector('#df-b40fac4f-22b3-4df5-ba5b-6f2a42df2d5e');\n",
              "          const dataTable =\n",
              "            await google.colab.kernel.invokeFunction('convertToInteractive',\n",
              "                                                     [key], {});\n",
              "          if (!dataTable) return;\n",
              "\n",
              "          const docLinkHtml = 'Like what you see? Visit the ' +\n",
              "            '<a target=\"_blank\" href=https://colab.research.google.com/notebooks/data_table.ipynb>data table notebook</a>'\n",
              "            + ' to learn more about interactive tables.';\n",
              "          element.innerHTML = '';\n",
              "          dataTable['output_type'] = 'display_data';\n",
              "          await google.colab.output.renderOutput(dataTable, element);\n",
              "          const docLink = document.createElement('div');\n",
              "          docLink.innerHTML = docLinkHtml;\n",
              "          element.appendChild(docLink);\n",
              "        }\n",
              "      </script>\n",
              "    </div>\n",
              "  </div>\n",
              "  "
            ]
          },
          "metadata": {},
          "execution_count": 44
        }
      ]
    },
    {
      "cell_type": "code",
      "source": [
        "# this function applies model to each column and row to detect and anonymize sensitive entities for a given dataset\n",
        "def Anonymize(data):\n",
        "  for i in data:\n",
        "    data[i] = data[i].apply(lambda x: predict_fn({\"inputs\": x,\"parameters\": {\"anonymize\": True}},AnalyzerEngine())[\"anonymized\"])\n",
        "  return data"
      ],
      "metadata": {
        "id": "_eehQWpGi8X9"
      },
      "execution_count": 36,
      "outputs": []
    },
    {
      "cell_type": "code",
      "source": [
        "Anonymize(data)"
      ],
      "metadata": {
        "colab": {
          "base_uri": "https://localhost:8080/",
          "height": 487
        },
        "id": "BnqBjOiNi8jT",
        "outputId": "0daf59c7-a9e1-40d6-812c-25fdadf7fa97"
      },
      "execution_count": 37,
      "outputs": [
        {
          "output_type": "stream",
          "name": "stderr",
          "text": [
            "WARNING:presidio-analyzer:configuration file /usr/local/lib/python3.7/dist-packages/conf/default.yaml not found.  Using default config: {'nlp_engine_name': 'spacy', 'models': [{'lang_code': 'en', 'model_name': 'en_core_web_lg'}]}.\n",
            "WARNING:presidio-analyzer:configuration file /usr/local/lib/python3.7/dist-packages/conf/default.yaml not found.  Using default config: {'nlp_engine_name': 'spacy', 'models': [{'lang_code': 'en', 'model_name': 'en_core_web_lg'}]}.\n",
            "WARNING:presidio-analyzer:configuration file /usr/local/lib/python3.7/dist-packages/conf/default.yaml not found.  Using default config: {'nlp_engine_name': 'spacy', 'models': [{'lang_code': 'en', 'model_name': 'en_core_web_lg'}]}.\n",
            "WARNING:presidio-analyzer:configuration file /usr/local/lib/python3.7/dist-packages/conf/default.yaml not found.  Using default config: {'nlp_engine_name': 'spacy', 'models': [{'lang_code': 'en', 'model_name': 'en_core_web_lg'}]}.\n",
            "WARNING:presidio-analyzer:configuration file /usr/local/lib/python3.7/dist-packages/conf/default.yaml not found.  Using default config: {'nlp_engine_name': 'spacy', 'models': [{'lang_code': 'en', 'model_name': 'en_core_web_lg'}]}.\n",
            "WARNING:presidio-analyzer:configuration file /usr/local/lib/python3.7/dist-packages/conf/default.yaml not found.  Using default config: {'nlp_engine_name': 'spacy', 'models': [{'lang_code': 'en', 'model_name': 'en_core_web_lg'}]}.\n",
            "WARNING:presidio-analyzer:configuration file /usr/local/lib/python3.7/dist-packages/conf/default.yaml not found.  Using default config: {'nlp_engine_name': 'spacy', 'models': [{'lang_code': 'en', 'model_name': 'en_core_web_lg'}]}.\n",
            "WARNING:presidio-analyzer:configuration file /usr/local/lib/python3.7/dist-packages/conf/default.yaml not found.  Using default config: {'nlp_engine_name': 'spacy', 'models': [{'lang_code': 'en', 'model_name': 'en_core_web_lg'}]}.\n",
            "WARNING:presidio-analyzer:configuration file /usr/local/lib/python3.7/dist-packages/conf/default.yaml not found.  Using default config: {'nlp_engine_name': 'spacy', 'models': [{'lang_code': 'en', 'model_name': 'en_core_web_lg'}]}.\n",
            "WARNING:presidio-analyzer:configuration file /usr/local/lib/python3.7/dist-packages/conf/default.yaml not found.  Using default config: {'nlp_engine_name': 'spacy', 'models': [{'lang_code': 'en', 'model_name': 'en_core_web_lg'}]}.\n",
            "WARNING:presidio-analyzer:configuration file /usr/local/lib/python3.7/dist-packages/conf/default.yaml not found.  Using default config: {'nlp_engine_name': 'spacy', 'models': [{'lang_code': 'en', 'model_name': 'en_core_web_lg'}]}.\n",
            "WARNING:presidio-analyzer:configuration file /usr/local/lib/python3.7/dist-packages/conf/default.yaml not found.  Using default config: {'nlp_engine_name': 'spacy', 'models': [{'lang_code': 'en', 'model_name': 'en_core_web_lg'}]}.\n",
            "WARNING:presidio-analyzer:configuration file /usr/local/lib/python3.7/dist-packages/conf/default.yaml not found.  Using default config: {'nlp_engine_name': 'spacy', 'models': [{'lang_code': 'en', 'model_name': 'en_core_web_lg'}]}.\n",
            "WARNING:presidio-analyzer:configuration file /usr/local/lib/python3.7/dist-packages/conf/default.yaml not found.  Using default config: {'nlp_engine_name': 'spacy', 'models': [{'lang_code': 'en', 'model_name': 'en_core_web_lg'}]}.\n",
            "WARNING:presidio-analyzer:configuration file /usr/local/lib/python3.7/dist-packages/conf/default.yaml not found.  Using default config: {'nlp_engine_name': 'spacy', 'models': [{'lang_code': 'en', 'model_name': 'en_core_web_lg'}]}.\n",
            "WARNING:presidio-analyzer:configuration file /usr/local/lib/python3.7/dist-packages/conf/default.yaml not found.  Using default config: {'nlp_engine_name': 'spacy', 'models': [{'lang_code': 'en', 'model_name': 'en_core_web_lg'}]}.\n"
          ]
        },
        {
          "output_type": "execute_result",
          "data": {
            "text/plain": [
              "  CreditCard(Visa)       SSN    Salary      Name\n",
              "0    <CREDIT_CARD>  <US_SSN>  \"150000\"  <PERSON>\n",
              "1    <CREDIT_CARD>  <US_SSN>  \"120000\"  <PERSON>\n",
              "2    <CREDIT_CARD>  <US_SSN>  \"110000\"  <PERSON>\n",
              "3    <CREDIT_CARD>  <US_SSN>  \"100000\"  <PERSON>"
            ],
            "text/html": [
              "\n",
              "  <div id=\"df-8473b7a1-2a10-4aa3-a8c5-e135dcca5be8\">\n",
              "    <div class=\"colab-df-container\">\n",
              "      <div>\n",
              "<style scoped>\n",
              "    .dataframe tbody tr th:only-of-type {\n",
              "        vertical-align: middle;\n",
              "    }\n",
              "\n",
              "    .dataframe tbody tr th {\n",
              "        vertical-align: top;\n",
              "    }\n",
              "\n",
              "    .dataframe thead th {\n",
              "        text-align: right;\n",
              "    }\n",
              "</style>\n",
              "<table border=\"1\" class=\"dataframe\">\n",
              "  <thead>\n",
              "    <tr style=\"text-align: right;\">\n",
              "      <th></th>\n",
              "      <th>CreditCard(Visa)</th>\n",
              "      <th>SSN</th>\n",
              "      <th>Salary</th>\n",
              "      <th>Name</th>\n",
              "    </tr>\n",
              "  </thead>\n",
              "  <tbody>\n",
              "    <tr>\n",
              "      <th>0</th>\n",
              "      <td>&lt;CREDIT_CARD&gt;</td>\n",
              "      <td>&lt;US_SSN&gt;</td>\n",
              "      <td>\"150000\"</td>\n",
              "      <td>&lt;PERSON&gt;</td>\n",
              "    </tr>\n",
              "    <tr>\n",
              "      <th>1</th>\n",
              "      <td>&lt;CREDIT_CARD&gt;</td>\n",
              "      <td>&lt;US_SSN&gt;</td>\n",
              "      <td>\"120000\"</td>\n",
              "      <td>&lt;PERSON&gt;</td>\n",
              "    </tr>\n",
              "    <tr>\n",
              "      <th>2</th>\n",
              "      <td>&lt;CREDIT_CARD&gt;</td>\n",
              "      <td>&lt;US_SSN&gt;</td>\n",
              "      <td>\"110000\"</td>\n",
              "      <td>&lt;PERSON&gt;</td>\n",
              "    </tr>\n",
              "    <tr>\n",
              "      <th>3</th>\n",
              "      <td>&lt;CREDIT_CARD&gt;</td>\n",
              "      <td>&lt;US_SSN&gt;</td>\n",
              "      <td>\"100000\"</td>\n",
              "      <td>&lt;PERSON&gt;</td>\n",
              "    </tr>\n",
              "  </tbody>\n",
              "</table>\n",
              "</div>\n",
              "      <button class=\"colab-df-convert\" onclick=\"convertToInteractive('df-8473b7a1-2a10-4aa3-a8c5-e135dcca5be8')\"\n",
              "              title=\"Convert this dataframe to an interactive table.\"\n",
              "              style=\"display:none;\">\n",
              "        \n",
              "  <svg xmlns=\"http://www.w3.org/2000/svg\" height=\"24px\"viewBox=\"0 0 24 24\"\n",
              "       width=\"24px\">\n",
              "    <path d=\"M0 0h24v24H0V0z\" fill=\"none\"/>\n",
              "    <path d=\"M18.56 5.44l.94 2.06.94-2.06 2.06-.94-2.06-.94-.94-2.06-.94 2.06-2.06.94zm-11 1L8.5 8.5l.94-2.06 2.06-.94-2.06-.94L8.5 2.5l-.94 2.06-2.06.94zm10 10l.94 2.06.94-2.06 2.06-.94-2.06-.94-.94-2.06-.94 2.06-2.06.94z\"/><path d=\"M17.41 7.96l-1.37-1.37c-.4-.4-.92-.59-1.43-.59-.52 0-1.04.2-1.43.59L10.3 9.45l-7.72 7.72c-.78.78-.78 2.05 0 2.83L4 21.41c.39.39.9.59 1.41.59.51 0 1.02-.2 1.41-.59l7.78-7.78 2.81-2.81c.8-.78.8-2.07 0-2.86zM5.41 20L4 18.59l7.72-7.72 1.47 1.35L5.41 20z\"/>\n",
              "  </svg>\n",
              "      </button>\n",
              "      \n",
              "  <style>\n",
              "    .colab-df-container {\n",
              "      display:flex;\n",
              "      flex-wrap:wrap;\n",
              "      gap: 12px;\n",
              "    }\n",
              "\n",
              "    .colab-df-convert {\n",
              "      background-color: #E8F0FE;\n",
              "      border: none;\n",
              "      border-radius: 50%;\n",
              "      cursor: pointer;\n",
              "      display: none;\n",
              "      fill: #1967D2;\n",
              "      height: 32px;\n",
              "      padding: 0 0 0 0;\n",
              "      width: 32px;\n",
              "    }\n",
              "\n",
              "    .colab-df-convert:hover {\n",
              "      background-color: #E2EBFA;\n",
              "      box-shadow: 0px 1px 2px rgba(60, 64, 67, 0.3), 0px 1px 3px 1px rgba(60, 64, 67, 0.15);\n",
              "      fill: #174EA6;\n",
              "    }\n",
              "\n",
              "    [theme=dark] .colab-df-convert {\n",
              "      background-color: #3B4455;\n",
              "      fill: #D2E3FC;\n",
              "    }\n",
              "\n",
              "    [theme=dark] .colab-df-convert:hover {\n",
              "      background-color: #434B5C;\n",
              "      box-shadow: 0px 1px 3px 1px rgba(0, 0, 0, 0.15);\n",
              "      filter: drop-shadow(0px 1px 2px rgba(0, 0, 0, 0.3));\n",
              "      fill: #FFFFFF;\n",
              "    }\n",
              "  </style>\n",
              "\n",
              "      <script>\n",
              "        const buttonEl =\n",
              "          document.querySelector('#df-8473b7a1-2a10-4aa3-a8c5-e135dcca5be8 button.colab-df-convert');\n",
              "        buttonEl.style.display =\n",
              "          google.colab.kernel.accessAllowed ? 'block' : 'none';\n",
              "\n",
              "        async function convertToInteractive(key) {\n",
              "          const element = document.querySelector('#df-8473b7a1-2a10-4aa3-a8c5-e135dcca5be8');\n",
              "          const dataTable =\n",
              "            await google.colab.kernel.invokeFunction('convertToInteractive',\n",
              "                                                     [key], {});\n",
              "          if (!dataTable) return;\n",
              "\n",
              "          const docLinkHtml = 'Like what you see? Visit the ' +\n",
              "            '<a target=\"_blank\" href=https://colab.research.google.com/notebooks/data_table.ipynb>data table notebook</a>'\n",
              "            + ' to learn more about interactive tables.';\n",
              "          element.innerHTML = '';\n",
              "          dataTable['output_type'] = 'display_data';\n",
              "          await google.colab.output.renderOutput(dataTable, element);\n",
              "          const docLink = document.createElement('div');\n",
              "          docLink.innerHTML = docLinkHtml;\n",
              "          element.appendChild(docLink);\n",
              "        }\n",
              "      </script>\n",
              "    </div>\n",
              "  </div>\n",
              "  "
            ]
          },
          "metadata": {},
          "execution_count": 37
        }
      ]
    },
    {
      "cell_type": "code",
      "source": [
        "data=pd.read_csv(\"TestData.csv\")"
      ],
      "metadata": {
        "id": "6KI8UM8OrlDT"
      },
      "execution_count": null,
      "outputs": []
    },
    {
      "cell_type": "code",
      "source": [
        "data.head()"
      ],
      "metadata": {
        "id": "JQn_29e-rmjG"
      },
      "execution_count": null,
      "outputs": []
    },
    {
      "cell_type": "code",
      "source": [
        "#This function applies model to each cell and row and detect sensitive entities\n",
        "def NotAnonymize(data):\n",
        "  for i in data:\n",
        "    data[i] = data[i].apply(lambda x: predict_fn({\"inputs\": x,\"parameters\": {\"anonymize\": False}},AnalyzerEngine()))\n",
        "  return data"
      ],
      "metadata": {
        "id": "U9Zgg1hFi8nw"
      },
      "execution_count": 45,
      "outputs": []
    },
    {
      "cell_type": "code",
      "source": [
        "NotAnonymize(data)"
      ],
      "metadata": {
        "colab": {
          "base_uri": "https://localhost:8080/",
          "height": 487
        },
        "id": "Qh9r1xPpi8s9",
        "outputId": "9ab20131-1feb-410d-8192-61ba82719506"
      },
      "execution_count": 46,
      "outputs": [
        {
          "output_type": "stream",
          "name": "stderr",
          "text": [
            "WARNING:presidio-analyzer:configuration file /usr/local/lib/python3.7/dist-packages/conf/default.yaml not found.  Using default config: {'nlp_engine_name': 'spacy', 'models': [{'lang_code': 'en', 'model_name': 'en_core_web_lg'}]}.\n",
            "WARNING:presidio-analyzer:configuration file /usr/local/lib/python3.7/dist-packages/conf/default.yaml not found.  Using default config: {'nlp_engine_name': 'spacy', 'models': [{'lang_code': 'en', 'model_name': 'en_core_web_lg'}]}.\n",
            "WARNING:presidio-analyzer:configuration file /usr/local/lib/python3.7/dist-packages/conf/default.yaml not found.  Using default config: {'nlp_engine_name': 'spacy', 'models': [{'lang_code': 'en', 'model_name': 'en_core_web_lg'}]}.\n",
            "WARNING:presidio-analyzer:configuration file /usr/local/lib/python3.7/dist-packages/conf/default.yaml not found.  Using default config: {'nlp_engine_name': 'spacy', 'models': [{'lang_code': 'en', 'model_name': 'en_core_web_lg'}]}.\n",
            "WARNING:presidio-analyzer:configuration file /usr/local/lib/python3.7/dist-packages/conf/default.yaml not found.  Using default config: {'nlp_engine_name': 'spacy', 'models': [{'lang_code': 'en', 'model_name': 'en_core_web_lg'}]}.\n",
            "WARNING:presidio-analyzer:configuration file /usr/local/lib/python3.7/dist-packages/conf/default.yaml not found.  Using default config: {'nlp_engine_name': 'spacy', 'models': [{'lang_code': 'en', 'model_name': 'en_core_web_lg'}]}.\n",
            "WARNING:presidio-analyzer:configuration file /usr/local/lib/python3.7/dist-packages/conf/default.yaml not found.  Using default config: {'nlp_engine_name': 'spacy', 'models': [{'lang_code': 'en', 'model_name': 'en_core_web_lg'}]}.\n",
            "WARNING:presidio-analyzer:configuration file /usr/local/lib/python3.7/dist-packages/conf/default.yaml not found.  Using default config: {'nlp_engine_name': 'spacy', 'models': [{'lang_code': 'en', 'model_name': 'en_core_web_lg'}]}.\n",
            "WARNING:presidio-analyzer:configuration file /usr/local/lib/python3.7/dist-packages/conf/default.yaml not found.  Using default config: {'nlp_engine_name': 'spacy', 'models': [{'lang_code': 'en', 'model_name': 'en_core_web_lg'}]}.\n",
            "WARNING:presidio-analyzer:configuration file /usr/local/lib/python3.7/dist-packages/conf/default.yaml not found.  Using default config: {'nlp_engine_name': 'spacy', 'models': [{'lang_code': 'en', 'model_name': 'en_core_web_lg'}]}.\n",
            "WARNING:presidio-analyzer:configuration file /usr/local/lib/python3.7/dist-packages/conf/default.yaml not found.  Using default config: {'nlp_engine_name': 'spacy', 'models': [{'lang_code': 'en', 'model_name': 'en_core_web_lg'}]}.\n",
            "WARNING:presidio-analyzer:configuration file /usr/local/lib/python3.7/dist-packages/conf/default.yaml not found.  Using default config: {'nlp_engine_name': 'spacy', 'models': [{'lang_code': 'en', 'model_name': 'en_core_web_lg'}]}.\n",
            "WARNING:presidio-analyzer:configuration file /usr/local/lib/python3.7/dist-packages/conf/default.yaml not found.  Using default config: {'nlp_engine_name': 'spacy', 'models': [{'lang_code': 'en', 'model_name': 'en_core_web_lg'}]}.\n",
            "WARNING:presidio-analyzer:configuration file /usr/local/lib/python3.7/dist-packages/conf/default.yaml not found.  Using default config: {'nlp_engine_name': 'spacy', 'models': [{'lang_code': 'en', 'model_name': 'en_core_web_lg'}]}.\n",
            "WARNING:presidio-analyzer:configuration file /usr/local/lib/python3.7/dist-packages/conf/default.yaml not found.  Using default config: {'nlp_engine_name': 'spacy', 'models': [{'lang_code': 'en', 'model_name': 'en_core_web_lg'}]}.\n",
            "WARNING:presidio-analyzer:configuration file /usr/local/lib/python3.7/dist-packages/conf/default.yaml not found.  Using default config: {'nlp_engine_name': 'spacy', 'models': [{'lang_code': 'en', 'model_name': 'en_core_web_lg'}]}.\n"
          ]
        },
        {
          "output_type": "execute_result",
          "data": {
            "text/plain": [
              "                                    CreditCard(Visa)  \\\n",
              "0  {'found': [{'entity_type': 'CREDIT_CARD', 'sta...   \n",
              "1  {'found': [{'entity_type': 'CREDIT_CARD', 'sta...   \n",
              "2  {'found': [{'entity_type': 'CREDIT_CARD', 'sta...   \n",
              "3  {'found': [{'entity_type': 'CREDIT_CARD', 'sta...   \n",
              "\n",
              "                                                 SSN         Salary  \\\n",
              "0  {'found': [{'entity_type': 'US_SSN', 'start': ...  {'found': []}   \n",
              "1  {'found': [{'entity_type': 'US_SSN', 'start': ...  {'found': []}   \n",
              "2  {'found': [{'entity_type': 'US_SSN', 'start': ...  {'found': []}   \n",
              "3  {'found': [{'entity_type': 'US_SSN', 'start': ...  {'found': []}   \n",
              "\n",
              "                                                Name  \n",
              "0  {'found': [{'entity_type': 'PERSON', 'start': ...  \n",
              "1  {'found': [{'entity_type': 'PERSON', 'start': ...  \n",
              "2  {'found': [{'entity_type': 'PERSON', 'start': ...  \n",
              "3  {'found': [{'entity_type': 'PERSON', 'start': ...  "
            ],
            "text/html": [
              "\n",
              "  <div id=\"df-adb04336-c8a5-4d13-8e2d-e013e02ea677\">\n",
              "    <div class=\"colab-df-container\">\n",
              "      <div>\n",
              "<style scoped>\n",
              "    .dataframe tbody tr th:only-of-type {\n",
              "        vertical-align: middle;\n",
              "    }\n",
              "\n",
              "    .dataframe tbody tr th {\n",
              "        vertical-align: top;\n",
              "    }\n",
              "\n",
              "    .dataframe thead th {\n",
              "        text-align: right;\n",
              "    }\n",
              "</style>\n",
              "<table border=\"1\" class=\"dataframe\">\n",
              "  <thead>\n",
              "    <tr style=\"text-align: right;\">\n",
              "      <th></th>\n",
              "      <th>CreditCard(Visa)</th>\n",
              "      <th>SSN</th>\n",
              "      <th>Salary</th>\n",
              "      <th>Name</th>\n",
              "    </tr>\n",
              "  </thead>\n",
              "  <tbody>\n",
              "    <tr>\n",
              "      <th>0</th>\n",
              "      <td>{'found': [{'entity_type': 'CREDIT_CARD', 'sta...</td>\n",
              "      <td>{'found': [{'entity_type': 'US_SSN', 'start': ...</td>\n",
              "      <td>{'found': []}</td>\n",
              "      <td>{'found': [{'entity_type': 'PERSON', 'start': ...</td>\n",
              "    </tr>\n",
              "    <tr>\n",
              "      <th>1</th>\n",
              "      <td>{'found': [{'entity_type': 'CREDIT_CARD', 'sta...</td>\n",
              "      <td>{'found': [{'entity_type': 'US_SSN', 'start': ...</td>\n",
              "      <td>{'found': []}</td>\n",
              "      <td>{'found': [{'entity_type': 'PERSON', 'start': ...</td>\n",
              "    </tr>\n",
              "    <tr>\n",
              "      <th>2</th>\n",
              "      <td>{'found': [{'entity_type': 'CREDIT_CARD', 'sta...</td>\n",
              "      <td>{'found': [{'entity_type': 'US_SSN', 'start': ...</td>\n",
              "      <td>{'found': []}</td>\n",
              "      <td>{'found': [{'entity_type': 'PERSON', 'start': ...</td>\n",
              "    </tr>\n",
              "    <tr>\n",
              "      <th>3</th>\n",
              "      <td>{'found': [{'entity_type': 'CREDIT_CARD', 'sta...</td>\n",
              "      <td>{'found': [{'entity_type': 'US_SSN', 'start': ...</td>\n",
              "      <td>{'found': []}</td>\n",
              "      <td>{'found': [{'entity_type': 'PERSON', 'start': ...</td>\n",
              "    </tr>\n",
              "  </tbody>\n",
              "</table>\n",
              "</div>\n",
              "      <button class=\"colab-df-convert\" onclick=\"convertToInteractive('df-adb04336-c8a5-4d13-8e2d-e013e02ea677')\"\n",
              "              title=\"Convert this dataframe to an interactive table.\"\n",
              "              style=\"display:none;\">\n",
              "        \n",
              "  <svg xmlns=\"http://www.w3.org/2000/svg\" height=\"24px\"viewBox=\"0 0 24 24\"\n",
              "       width=\"24px\">\n",
              "    <path d=\"M0 0h24v24H0V0z\" fill=\"none\"/>\n",
              "    <path d=\"M18.56 5.44l.94 2.06.94-2.06 2.06-.94-2.06-.94-.94-2.06-.94 2.06-2.06.94zm-11 1L8.5 8.5l.94-2.06 2.06-.94-2.06-.94L8.5 2.5l-.94 2.06-2.06.94zm10 10l.94 2.06.94-2.06 2.06-.94-2.06-.94-.94-2.06-.94 2.06-2.06.94z\"/><path d=\"M17.41 7.96l-1.37-1.37c-.4-.4-.92-.59-1.43-.59-.52 0-1.04.2-1.43.59L10.3 9.45l-7.72 7.72c-.78.78-.78 2.05 0 2.83L4 21.41c.39.39.9.59 1.41.59.51 0 1.02-.2 1.41-.59l7.78-7.78 2.81-2.81c.8-.78.8-2.07 0-2.86zM5.41 20L4 18.59l7.72-7.72 1.47 1.35L5.41 20z\"/>\n",
              "  </svg>\n",
              "      </button>\n",
              "      \n",
              "  <style>\n",
              "    .colab-df-container {\n",
              "      display:flex;\n",
              "      flex-wrap:wrap;\n",
              "      gap: 12px;\n",
              "    }\n",
              "\n",
              "    .colab-df-convert {\n",
              "      background-color: #E8F0FE;\n",
              "      border: none;\n",
              "      border-radius: 50%;\n",
              "      cursor: pointer;\n",
              "      display: none;\n",
              "      fill: #1967D2;\n",
              "      height: 32px;\n",
              "      padding: 0 0 0 0;\n",
              "      width: 32px;\n",
              "    }\n",
              "\n",
              "    .colab-df-convert:hover {\n",
              "      background-color: #E2EBFA;\n",
              "      box-shadow: 0px 1px 2px rgba(60, 64, 67, 0.3), 0px 1px 3px 1px rgba(60, 64, 67, 0.15);\n",
              "      fill: #174EA6;\n",
              "    }\n",
              "\n",
              "    [theme=dark] .colab-df-convert {\n",
              "      background-color: #3B4455;\n",
              "      fill: #D2E3FC;\n",
              "    }\n",
              "\n",
              "    [theme=dark] .colab-df-convert:hover {\n",
              "      background-color: #434B5C;\n",
              "      box-shadow: 0px 1px 3px 1px rgba(0, 0, 0, 0.15);\n",
              "      filter: drop-shadow(0px 1px 2px rgba(0, 0, 0, 0.3));\n",
              "      fill: #FFFFFF;\n",
              "    }\n",
              "  </style>\n",
              "\n",
              "      <script>\n",
              "        const buttonEl =\n",
              "          document.querySelector('#df-adb04336-c8a5-4d13-8e2d-e013e02ea677 button.colab-df-convert');\n",
              "        buttonEl.style.display =\n",
              "          google.colab.kernel.accessAllowed ? 'block' : 'none';\n",
              "\n",
              "        async function convertToInteractive(key) {\n",
              "          const element = document.querySelector('#df-adb04336-c8a5-4d13-8e2d-e013e02ea677');\n",
              "          const dataTable =\n",
              "            await google.colab.kernel.invokeFunction('convertToInteractive',\n",
              "                                                     [key], {});\n",
              "          if (!dataTable) return;\n",
              "\n",
              "          const docLinkHtml = 'Like what you see? Visit the ' +\n",
              "            '<a target=\"_blank\" href=https://colab.research.google.com/notebooks/data_table.ipynb>data table notebook</a>'\n",
              "            + ' to learn more about interactive tables.';\n",
              "          element.innerHTML = '';\n",
              "          dataTable['output_type'] = 'display_data';\n",
              "          await google.colab.output.renderOutput(dataTable, element);\n",
              "          const docLink = document.createElement('div');\n",
              "          docLink.innerHTML = docLinkHtml;\n",
              "          element.appendChild(docLink);\n",
              "        }\n",
              "      </script>\n",
              "    </div>\n",
              "  </div>\n",
              "  "
            ]
          },
          "metadata": {},
          "execution_count": 46
        }
      ]
    }
  ],
  "metadata": {
    "colab": {
      "collapsed_sections": [],
      "name": "SensitiveDataDetection_2ModelsMerged.ipynb",
      "provenance": []
    },
    "kernelspec": {
      "display_name": "Python 3.9.7 ('base')",
      "language": "python",
      "name": "python3"
    },
    "language_info": {
      "codemirror_mode": {
        "name": "ipython",
        "version": 3
      },
      "file_extension": ".py",
      "mimetype": "text/x-python",
      "name": "python",
      "nbconvert_exporter": "python",
      "pygments_lexer": "ipython3",
      "version": "3.9.7"
    },
    "vscode": {
      "interpreter": {
        "hash": "2c4f9237f2eaf91b3c3169033cec814e25d8031db0f29112af0981e595e0fde8"
      }
    }
  },
  "nbformat": 4,
  "nbformat_minor": 0
}